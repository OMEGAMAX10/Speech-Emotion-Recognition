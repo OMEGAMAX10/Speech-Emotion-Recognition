{
 "cells": [
  {
   "cell_type": "code",
   "execution_count": 1,
   "metadata": {},
   "outputs": [
    {
     "name": "stderr",
     "output_type": "stream",
     "text": [
      "2024-03-13 01:42:33.264461: I tensorflow/core/platform/cpu_feature_guard.cc:193] This TensorFlow binary is optimized with oneAPI Deep Neural Network Library (oneDNN) to use the following CPU instructions in performance-critical operations:  AVX2 FMA\n",
      "To enable them in other operations, rebuild TensorFlow with the appropriate compiler flags.\n",
      "2024-03-13 01:42:33.808496: E tensorflow/stream_executor/cuda/cuda_blas.cc:2981] Unable to register cuBLAS factory: Attempting to register factory for plugin cuBLAS when one has already been registered\n",
      "2024-03-13 01:42:35.756620: W tensorflow/stream_executor/platform/default/dso_loader.cc:64] Could not load dynamic library 'libnvinfer.so.7'; dlerror: libnvinfer.so.7: cannot open shared object file: No such file or directory; LD_LIBRARY_PATH: /home/bmarghescu/anaconda3/lib/python3.9/site-packages/cv2/../../lib64:\n",
      "2024-03-13 01:42:35.756620: W tensorflow/stream_executor/platform/default/dso_loader.cc:64] Could not load dynamic library 'libnvinfer_plugin.so.7'; dlerror: libnvinfer_plugin.so.7: cannot open shared object file: No such file or directory; LD_LIBRARY_PATH: /home/bmarghescu/anaconda3/lib/python3.9/site-packages/cv2/../../lib64:\n",
      "2024-03-13 01:42:35.756620: W tensorflow/compiler/tf2tensorrt/utils/py_utils.cc:38] TF-TRT Warning: Cannot dlopen some TensorRT libraries. If you would like to use Nvidia GPU with TensorRT, please make sure the missing libraries mentioned above are installed properly.\n"
     ]
    }
   ],
   "source": [
    "import os\n",
    "import cv2\n",
    "import json\n",
    "import time\n",
    "import joblib\n",
    "import pandas as pd\n",
    "import numpy as np\n",
    "\n",
    "import imageio\n",
    "import tensorflow as tf\n",
    "import librosa\n",
    "import librosa.display\n",
    "from tqdm import tqdm\n",
    "import seaborn as sns\n",
    "import matplotlib.pyplot as plt\n",
    "from scipy.signal.windows import hamming\n",
    "\n",
    "from sklearn.preprocessing import StandardScaler, OneHotEncoder\n",
    "from sklearn.model_selection import train_test_split\n",
    "from sklearn.utils import shuffle, class_weight\n",
    "from sklearn.metrics import confusion_matrix, classification_report, balanced_accuracy_score, accuracy_score\n",
    "\n",
    "import keras\n",
    "from keras.callbacks import EarlyStopping\n",
    "from keras.callbacks import ModelCheckpoint\n",
    "from keras.models import Sequential\n",
    "from keras.layers import Conv2D, BatchNormalization, LeakyReLU, Conv2DTranspose\n",
    "from keras.optimizers import Adam\n",
    "from keras.models import load_model\n",
    "from keras.applications.mobilenet_v3 import MobileNetV3Large, preprocess_input"
   ]
  },
  {
   "cell_type": "code",
   "execution_count": 2,
   "metadata": {},
   "outputs": [],
   "source": [
    "DATASET_DIR = \"Datasets/EMO-IIT\"\n",
    "SPECTROGRAM_DIR = \"Spectrograms/EMO-IIT/Log\"\n",
    "TF_RECORDS_DIR = \"TFRecords/EMO-IIT_AutoEncoder\"\n",
    "TF_RECORDS_NAME = \"EMO-IIT_log_AutoEncoder.tfrecords\"\n",
    "MODEL_DIR = \"Models\"\n",
    "MODEL_NAME = \"EMO-IIT_log_MobileNetV3Large.h5\"\n",
    "MODEL_NAME_AE = \"EMO-IIT_log_AutoEncoder.h5\"\n",
    "THRESHOLD_AE = 0.25\n",
    "NUM_CLASSES_POSITIVE = 5\n",
    "NUM_CLASSES_NEGATIVE = 3\n",
    "NUM_CLASSES = NUM_CLASSES_POSITIVE + NUM_CLASSES_NEGATIVE\n",
    "SAMPLE_RATE = 16000\n",
    "BATCH_SIZE = 32\n",
    "EPOCHS = 50\n",
    "RANDOM_SEED = 42"
   ]
  },
  {
   "cell_type": "code",
   "execution_count": 3,
   "metadata": {},
   "outputs": [],
   "source": [
    "def create_dataframe_emodb():\n",
    "    EMOTION_DICT_EMODB = {'W': 'anger', 'L': 'boredom', 'E': 'disgust', 'A': 'fear', 'F': 'happiness', 'T': 'sadness', 'N': 'neutral'}\n",
    "    if DATASET_DIR != \"Datasets/EmoDB\" and DATASET_DIR != \"Datasets/Converted Datasets/EmoDB\":\n",
    "        raise Exception(\"DATASET_DIR must be set to 'Datasets/EmoDB' or 'Datasets/Converted Datasets/EmoDB' for EmoDB dataset\")\n",
    "    file_person, file_gender, file_emotion, file_path = [], [], [], []\n",
    "    file_list = os.listdir(DATASET_DIR)\n",
    "    for file in file_list:\n",
    "        person = int(file[0:2])\n",
    "        gender = 'male' if person in [3, 10, 11, 12, 15] else 'female'\n",
    "        emotion = EMOTION_DICT_EMODB[file[5]]\n",
    "        file_person.append(person)\n",
    "        file_gender.append(gender)\n",
    "        file_emotion.append(emotion)\n",
    "        file_path.append(os.path.join(DATASET_DIR, file))\n",
    "    file_dict = {'person': file_person, 'gender': file_gender, 'emotion': file_emotion, 'path': file_path}\n",
    "    emodb_df = pd.DataFrame(file_dict)\n",
    "    return emodb_df"
   ]
  },
  {
   "cell_type": "code",
   "execution_count": 4,
   "metadata": {},
   "outputs": [],
   "source": [
    "def create_dataframe_emoiit():\n",
    "    if DATASET_DIR != \"Datasets/EMO-IIT\" and DATASET_DIR != \"Datasets/Converted Datasets/EMO-IIT\":\n",
    "        raise Exception(\"DATASET_DIR must be set to 'Datasets/EMO-IIT' or 'Datasets/Converted Datasets/EMO-IIT' for EMO-IIT dataset\")\n",
    "    file_emotion, file_path = [], []\n",
    "    emotion_dir_list = os.listdir(DATASET_DIR)\n",
    "    for emotion_dir in emotion_dir_list:\n",
    "        file_list = os.listdir(os.path.join(DATASET_DIR, emotion_dir))\n",
    "        for file in file_list:\n",
    "            if file.endswith('.wav'):\n",
    "                file_emotion.append(emotion_dir)\n",
    "                file_path.append(os.path.join(DATASET_DIR, emotion_dir, file))\n",
    "    file_dict = {'emotion': file_emotion, 'path': file_path}\n",
    "    emoiit_df = pd.DataFrame(file_dict)\n",
    "    emoiit_df = pd.DataFrame(shuffle(emoiit_df, random_state=RANDOM_SEED), columns=emoiit_df.columns).reset_index(drop=True, inplace=False)\n",
    "    return emoiit_df"
   ]
  },
  {
   "cell_type": "code",
   "execution_count": 5,
   "metadata": {
    "collapsed": false
   },
   "outputs": [],
   "source": [
    "def create_dataframe_emoiit_autoencoder():\n",
    "    if DATASET_DIR != \"Datasets/EMO-IIT\" and DATASET_DIR != \"Datasets/Converted Datasets/EMO-IIT\":\n",
    "        raise Exception(\"DATASET_DIR must be set to 'Datasets/EMO-IIT' or 'Datasets/Converted Datasets/EMO-IIT' for EMO-IIT dataset\")\n",
    "    file_emotion_positive, file_emotion_negative, file_path_positive, file_path_negative = [], [], [], []\n",
    "    emotion_dir_list = os.listdir(DATASET_DIR)\n",
    "    for emotion_dir in emotion_dir_list:\n",
    "        file_list = os.listdir(os.path.join(DATASET_DIR, emotion_dir))\n",
    "        for file in file_list:\n",
    "            if file.endswith('.wav'):\n",
    "                if emotion_dir in ['anger', 'irritation', 'fear']:\n",
    "                    file_emotion_negative.append(emotion_dir)\n",
    "                    file_path_negative.append(os.path.join(DATASET_DIR, emotion_dir, file))\n",
    "                else:\n",
    "                    file_emotion_positive.append(emotion_dir)\n",
    "                    file_path_positive.append(os.path.join(DATASET_DIR, emotion_dir, file))\n",
    "    file_dict_positive = {'emotion': file_emotion_positive, 'path': file_path_positive}\n",
    "    file_dict_negative = {'emotion': file_emotion_negative, 'path': file_path_negative}\n",
    "    emoiit_positive_df = pd.DataFrame(file_dict_positive)\n",
    "    emoiit_positive_df = pd.DataFrame(shuffle(emoiit_positive_df, random_state=RANDOM_SEED), columns=emoiit_positive_df.columns).reset_index(drop=True, inplace=False)\n",
    "    emoiit_negative_df = pd.DataFrame(file_dict_negative)\n",
    "    emoiit_negative_df = pd.DataFrame(shuffle(emoiit_negative_df, random_state=RANDOM_SEED), columns=emoiit_negative_df.columns).reset_index(drop=True, inplace=False)\n",
    "    return emoiit_positive_df, emoiit_negative_df"
   ]
  },
  {
   "cell_type": "code",
   "execution_count": 6,
   "metadata": {
    "collapsed": false
   },
   "outputs": [],
   "source": [
    "def create_dataframe_emoiit_separate_speakers():\n",
    "    assert (DATASET_DIR == \"Datasets/EMO-IIT_Separate_Speakers\" or DATASET_DIR == \"Datasets/Converted Datasets/EMO-IIT_Separate_Speakers\"), \"DATASET_DIR must be set to 'Datasets/EMO-IIT_Separate_Speakers' or 'Datasets/Converted Datasets/EMO-IIT_Separate_Speakers'\"\n",
    "    file_emotion_train, file_emotion_test, file_path_train, file_path_test = [], [], [], []\n",
    "    dataset_type = os.listdir(DATASET_DIR)\n",
    "    for type in dataset_type:\n",
    "        emotion_dir_list = os.listdir(os.path.join(DATASET_DIR, type))\n",
    "        for emotion_dir in emotion_dir_list:\n",
    "            emotion_dir_path = os.path.join(DATASET_DIR, type, emotion_dir)\n",
    "            emotion_dir_files = os.listdir(emotion_dir_path)\n",
    "            for file in emotion_dir_files:\n",
    "                if file.endswith(\".wav\"):\n",
    "                    if type == \"train\":\n",
    "                        file_emotion_train.append(emotion_dir)\n",
    "                        file_path_train.append(os.path.join(emotion_dir_path, file))\n",
    "                    elif type == \"test\":\n",
    "                        file_emotion_test.append(emotion_dir)\n",
    "                        file_path_test.append(os.path.join(emotion_dir_path, file))\n",
    "    df_train = pd.DataFrame({\"emotion\": file_emotion_train, \"path\": file_path_train})\n",
    "    df_train = pd.DataFrame(shuffle(df_train, random_state=RANDOM_SEED), columns=df_train.columns).reset_index(drop=True, inplace=False)\n",
    "    df_test = pd.DataFrame({\"emotion\": file_emotion_test, \"path\": file_path_test})\n",
    "    df_test = pd.DataFrame(shuffle(df_test, random_state=RANDOM_SEED), columns=df_test.columns).reset_index(drop=True, inplace=False)\n",
    "    return df_train, df_test"
   ]
  },
  {
   "cell_type": "code",
   "execution_count": 7,
   "metadata": {},
   "outputs": [],
   "source": [
    "def create_dataframe_ravdess():\n",
    "    emotion_list = ['neutral', 'calm', 'happy', 'sad', 'angry', 'fearful', 'disgust', 'surprised']\n",
    "    if DATASET_DIR != \"Datasets/RAVDESS/audio_speech_actors_01-24\" and DATASET_DIR != \"Datasets/Converted Datasets/RAVDESS\":\n",
    "        raise Exception(\"DATASET_DIR must be set to 'Datasets/RAVDESS/audio_speech_actors_01-24' or 'Datasets/Converted Datasets/RAVDESS' for RAVDESS dataset\")\n",
    "    file_person, file_gender, file_emotion, file_intensity, file_path = [], [], [], [], []\n",
    "    person_dir_list = os.listdir(DATASET_DIR)\n",
    "    for person_dir in person_dir_list:\n",
    "        if person_dir.startswith(\"Actor_\"):\n",
    "            person = int(person_dir.split(\"_\")[1])\n",
    "            file_list_person = os.listdir(os.path.join(DATASET_DIR, person_dir))\n",
    "            for file in file_list_person:\n",
    "                if file.endswith(\".wav\"):\n",
    "                    file_person.append(person)\n",
    "                    file_path.append(os.path.join(DATASET_DIR, person_dir, file))\n",
    "                    file_gender.append(\"male\" if person % 2 == 1 else \"female\")\n",
    "                    file_emotion.append(emotion_list[int(file.split(\"-\")[2]) - 1])\n",
    "                    file_intensity.append(int(file.split(\"-\")[3].split(\".\")[0]))\n",
    "    file_dict = {'person': file_person, 'gender': file_gender, 'emotion': file_emotion, 'intensity': file_intensity, 'path': file_path}\n",
    "    ravdess_df = pd.DataFrame(file_dict)\n",
    "    ravdess_df = pd.DataFrame(shuffle(ravdess_df, random_state=RANDOM_SEED), columns=ravdess_df.columns).reset_index(drop=True, inplace=False)\n",
    "    return ravdess_df"
   ]
  },
  {
   "cell_type": "code",
   "execution_count": 8,
   "metadata": {},
   "outputs": [],
   "source": [
    "def preprocess_dataset(ser_df, dataset_type, ohe=None, fold=None):\n",
    "    audio_block_list = []\n",
    "    emotion_list = []\n",
    "    for row in tqdm(ser_df.itertuples(), desc=f\"Preprocessing audio files dataset - {dataset_type}\", total=len(ser_df)):\n",
    "        data, _ = librosa.load(row.path, sr=SAMPLE_RATE)\n",
    "        if data.shape[0] < SAMPLE_RATE:\n",
    "            data = np.pad(data, (0, SAMPLE_RATE - data.shape[0]), 'constant')\n",
    "        frames = librosa.util.frame(data, frame_length=SAMPLE_RATE, hop_length=int(SAMPLE_RATE/100)).T\n",
    "        for frame in frames:\n",
    "            audio_block_list.append(frame)\n",
    "            emotion_list.append(row.emotion)\n",
    "    audio_block_list = np.array(audio_block_list)\n",
    "    emotion_list = np.array(emotion_list)\n",
    "    if ohe is None:\n",
    "        ohe = OneHotEncoder(categories='auto', sparse=False)\n",
    "        emotion_list = ohe.fit_transform(emotion_list[:, np.newaxis])\n",
    "        ohe_path = os.path.join(MODEL_DIR, MODEL_NAME.replace(\".h5\", f\"_fold_{fold + 1}_ohe.pkl\")) if fold is not None else os.path.join(MODEL_DIR, MODEL_NAME.replace(\".h5\", \"_ohe.pkl\"))\n",
    "        joblib.dump(ohe, ohe_path)\n",
    "    else:\n",
    "        emotion_list = ohe.transform(emotion_list[:, np.newaxis])\n",
    "    return audio_block_list, emotion_list"
   ]
  },
  {
   "cell_type": "code",
   "execution_count": 9,
   "metadata": {
    "collapsed": false
   },
   "outputs": [],
   "source": [
    "def preprocess_dataset_autoencoder(ser_df, dataset_type, ohe=None, fold=None):\n",
    "    audio_block_list = []\n",
    "    emotion_list = []\n",
    "    for row in tqdm(ser_df.itertuples(), desc=f\"Preprocessing audio files dataset - {dataset_type}\", total=len(ser_df)):\n",
    "        data, _ = librosa.load(row.path, sr=SAMPLE_RATE)\n",
    "        if data.shape[0] < SAMPLE_RATE:\n",
    "            data = np.pad(data, (0, SAMPLE_RATE - data.shape[0]), 'constant')\n",
    "        frames = librosa.util.frame(data, frame_length=SAMPLE_RATE, hop_length=int(SAMPLE_RATE/100)).T\n",
    "        for frame in frames:\n",
    "            audio_block_list.append(frame)\n",
    "            emotion_list.append(row.emotion)\n",
    "    audio_block_list = np.array(audio_block_list)\n",
    "    emotion_list = np.array(emotion_list)\n",
    "    if ohe is None:\n",
    "        ohe = OneHotEncoder(categories='auto', sparse=False)\n",
    "        emotion_list = ohe.fit_transform(emotion_list[:, np.newaxis])\n",
    "        ohe_path = os.path.join(MODEL_DIR, MODEL_NAME.replace(\".h5\", f\"_fold_{fold + 1}_{dataset_type}_ohe.pkl\")) if fold is not None else os.path.join(MODEL_DIR, MODEL_NAME.replace(\".h5\", f\"_{dataset_type}_ohe.pkl\"))\n",
    "        joblib.dump(ohe, ohe_path)\n",
    "    else:\n",
    "        emotion_list = ohe.transform(emotion_list[:, np.newaxis])\n",
    "    return audio_block_list, emotion_list"
   ]
  },
  {
   "cell_type": "code",
   "execution_count": 10,
   "metadata": {},
   "outputs": [],
   "source": [
    "def create_spectrogram_log(data, sr):\n",
    "    X = np.abs(librosa.stft(data, window=hamming(int(np.round(sr / 1000) * 32)), n_fft=int(np.round(sr / 1000) * 32), hop_length=int(np.round(sr / 1000) * 4)))\n",
    "    Xdb = librosa.amplitude_to_db(np.abs(X), ref=np.max)\n",
    "    cmap = plt.cm.jet\n",
    "    norm = plt.Normalize(vmin=-90, vmax=-7)\n",
    "    image = cmap(norm(Xdb))\n",
    "    image = image[:, :, :3]\n",
    "    image = cv2.normalize(src=np.flip(image, axis=0), dst=None, alpha=0, beta=255, norm_type=cv2.NORM_MINMAX, dtype=cv2.CV_8U)\n",
    "    image = cv2.resize(image, (224, 224), interpolation=cv2.INTER_LINEAR)\n",
    "    return image"
   ]
  },
  {
   "cell_type": "code",
   "execution_count": 11,
   "metadata": {},
   "outputs": [],
   "source": [
    "def create_spectrogram_linear(data, sr):\n",
    "    X = np.abs(librosa.stft(data, window=hamming(int(np.round(sr / 1000) * 32)), n_fft=int(np.round(sr / 1000) * 32), hop_length=int(np.round(sr / 1000) * 4)))\n",
    "    cmap = plt.cm.jet\n",
    "    norm = plt.Normalize(vmin=np.amin(X), vmax=np.amax(X))\n",
    "    image = cmap(norm(X))\n",
    "    image = image[:, :, :3]\n",
    "    image = cv2.normalize(src=np.flip(image, axis=0), dst=None, alpha=0, beta=255, norm_type=cv2.NORM_MINMAX, dtype=cv2.CV_8U)\n",
    "    image = cv2.resize(image, (224, 224), interpolation=cv2.INTER_LINEAR)\n",
    "    return image"
   ]
  },
  {
   "cell_type": "code",
   "execution_count": 12,
   "metadata": {},
   "outputs": [],
   "source": [
    "def create_spectrogram_mel(data, sr):\n",
    "    Xmel = np.abs(librosa.feature.melspectrogram(y=data, sr=sr, n_mels=128, window=hamming(int(np.round(sr / 1000) * 32)), n_fft=int(np.round(sr / 1000) * 32), hop_length=int(np.round(sr / 1000) * 4)))\n",
    "    X_mel_db = librosa.amplitude_to_db(Xmel, ref=np.max)\n",
    "    cmap = plt.cm.jet\n",
    "    norm = plt.Normalize(vmin=-90, vmax=-7)\n",
    "    image = cmap(norm(X_mel_db))\n",
    "    image = image[:, :, :3]\n",
    "    image = cv2.normalize(src=np.flip(image, axis=0), dst=None, alpha=0, beta=255, norm_type=cv2.NORM_MINMAX, dtype=cv2.CV_8U)\n",
    "    image = cv2.resize(image, (224, 224), interpolation=cv2.INTER_LINEAR)\n",
    "    return image"
   ]
  },
  {
   "cell_type": "code",
   "execution_count": 13,
   "metadata": {},
   "outputs": [],
   "source": [
    "def create_spectrogram_hpss(data, sr):\n",
    "    X = librosa.stft(data, window=hamming(int(np.round(sr / 1000) * 32)), n_fft=int(np.round(sr / 1000) * 32), hop_length=int(np.round(sr / 1000) * 4))\n",
    "    X_harmonic, X_percussive = librosa.decompose.hpss(X)\n",
    "    X_db = librosa.amplitude_to_db(np.abs(X), ref=np.max)\n",
    "    X_harmonic_db = librosa.amplitude_to_db(np.abs(X_harmonic), ref=np.max)\n",
    "    X_percussive_db = librosa.amplitude_to_db(np.abs(X_percussive), ref=np.max)\n",
    "    image = np.hstack((X_db, X_harmonic_db, X_percussive_db))\n",
    "    cmap = plt.cm.jet\n",
    "    norm = plt.Normalize(vmin=-90, vmax=-7)\n",
    "    image = cmap(norm(image))\n",
    "    image = image[:, :, :3]\n",
    "    image = cv2.normalize(src=np.flip(image, axis=0), dst=None, alpha=0, beta=255, norm_type=cv2.NORM_MINMAX, dtype=cv2.CV_8U)\n",
    "    image = cv2.resize(image, (224, 224), interpolation=cv2.INTER_LINEAR)\n",
    "    return image"
   ]
  },
  {
   "cell_type": "code",
   "execution_count": 14,
   "metadata": {},
   "outputs": [],
   "source": [
    "def image_feature(value):\n",
    "    \"\"\"Returns a bytes_list from a string / byte.\"\"\"\n",
    "    return tf.train.Feature(\n",
    "        bytes_list=tf.train.BytesList(value=[tf.io.encode_png(value).numpy()])\n",
    "    )\n",
    "\n",
    "\n",
    "def bytes_feature(value):\n",
    "    \"\"\"Returns a bytes_list from a string / byte.\"\"\"\n",
    "    return tf.train.Feature(bytes_list=tf.train.BytesList(value=[value.encode()]))\n",
    "\n",
    "\n",
    "def float_feature(value):\n",
    "    \"\"\"Returns a float_list from a float / double.\"\"\"\n",
    "    return tf.train.Feature(float_list=tf.train.FloatList(value=value))"
   ]
  },
  {
   "cell_type": "code",
   "execution_count": 15,
   "metadata": {},
   "outputs": [],
   "source": [
    "def create_example(image, path, emotion_id):\n",
    "    feature = {\n",
    "        \"image\": image_feature(image),\n",
    "        \"path\": bytes_feature(path),\n",
    "        \"emotion_id\": float_feature(emotion_id),\n",
    "    }\n",
    "    return tf.train.Example(features=tf.train.Features(feature=feature))"
   ]
  },
  {
   "cell_type": "code",
   "execution_count": 16,
   "metadata": {
    "collapsed": false
   },
   "outputs": [],
   "source": [
    "def parse_tfrecord_train_autoencoder(example):\n",
    "    feature_description = {\n",
    "        \"image\": tf.io.FixedLenFeature([], tf.string),\n",
    "        \"path\": tf.io.FixedLenFeature([], tf.string),\n",
    "        \"emotion_id\": tf.io.FixedLenFeature([NUM_CLASSES_POSITIVE], tf.float32),\n",
    "    }\n",
    "    example = tf.io.parse_single_example(example, feature_description)\n",
    "    example[\"image\"] = tf.io.decode_png(example[\"image\"], channels=3)\n",
    "    return example"
   ]
  },
  {
   "cell_type": "code",
   "execution_count": 17,
   "metadata": {
    "collapsed": false
   },
   "outputs": [],
   "source": [
    "def parse_tfrecord_test_autoencoder(example):\n",
    "    feature_description = {\n",
    "        \"image\": tf.io.FixedLenFeature([], tf.string),\n",
    "        \"path\": tf.io.FixedLenFeature([], tf.string),\n",
    "        \"emotion_id\": tf.io.FixedLenFeature([NUM_CLASSES_NEGATIVE], tf.float32),\n",
    "    }\n",
    "    example = tf.io.parse_single_example(example, feature_description)\n",
    "    example[\"image\"] = tf.io.decode_png(example[\"image\"], channels=3)\n",
    "    return example"
   ]
  },
  {
   "cell_type": "code",
   "execution_count": 18,
   "metadata": {},
   "outputs": [],
   "source": [
    "def create_example_test(image, path, emotion_id, sample_weight):\n",
    "    feature = {\n",
    "        \"image\": image_feature(image),\n",
    "        \"path\": bytes_feature(path),\n",
    "        \"emotion_id\": float_feature(emotion_id),\n",
    "        \"sample_weight\": float_feature(sample_weight),\n",
    "    }\n",
    "    return tf.train.Example(features=tf.train.Features(feature=feature))"
   ]
  },
  {
   "cell_type": "code",
   "execution_count": 19,
   "metadata": {
    "collapsed": false
   },
   "outputs": [],
   "source": [
    "def parse_tfrecord(example):\n",
    "    feature_description = {\n",
    "        \"image\": tf.io.FixedLenFeature([], tf.string),\n",
    "        \"path\": tf.io.FixedLenFeature([], tf.string),\n",
    "        \"emotion_id\": tf.io.FixedLenFeature([NUM_CLASSES], tf.float32),\n",
    "    }\n",
    "    example = tf.io.parse_single_example(example, feature_description)\n",
    "    example[\"image\"] = tf.io.decode_png(example[\"image\"], channels=3)\n",
    "    return example"
   ]
  },
  {
   "cell_type": "code",
   "execution_count": 20,
   "metadata": {},
   "outputs": [],
   "source": [
    "def parse_tfrecord_train(example):\n",
    "    feature_description = {\n",
    "        \"image\": tf.io.FixedLenFeature([], tf.string),\n",
    "        \"path\": tf.io.FixedLenFeature([], tf.string),\n",
    "        \"emotion_id\": tf.io.FixedLenFeature([NUM_CLASSES], tf.float32),\n",
    "    }\n",
    "    example = tf.io.parse_single_example(example, feature_description)\n",
    "    example[\"image\"] = tf.io.decode_png(example[\"image\"], channels=3)\n",
    "    return example\n",
    "\n",
    "\n",
    "def parse_tfrecord_test(example):\n",
    "    feature_description = {\n",
    "        \"image\": tf.io.FixedLenFeature([], tf.string),\n",
    "        \"path\": tf.io.FixedLenFeature([], tf.string),\n",
    "        \"emotion_id\": tf.io.FixedLenFeature([NUM_CLASSES], tf.float32),\n",
    "        \"sample_weight\": tf.io.FixedLenFeature([1], tf.float32),\n",
    "    }\n",
    "    example = tf.io.parse_single_example(example, feature_description)\n",
    "    example[\"image\"] = tf.io.decode_png(example[\"image\"], channels=3)\n",
    "    return example"
   ]
  },
  {
   "cell_type": "code",
   "execution_count": 21,
   "metadata": {},
   "outputs": [],
   "source": [
    "def create_spectrogram_dataset(audio_block_list, emotion_list, sr, create_spectrogram, dataset_type=\"train\"):\n",
    "    if dataset_type not in [\"train\", \"dev\", \"test\"]:\n",
    "        raise ValueError(\"dataset_type must be 'train', 'dev' or 'test'\")\n",
    "    if not os.path.exists(os.path.join(TF_RECORDS_DIR, dataset_type)):\n",
    "        os.makedirs(os.path.join(TF_RECORDS_DIR, dataset_type))\n",
    "    with tf.io.TFRecordWriter(os.path.join(TF_RECORDS_DIR, dataset_type, TF_RECORDS_NAME)) as writer:\n",
    "        for index, block in enumerate(tqdm(audio_block_list, desc=f\"Creating Spectrogram Dataset - {dataset_type}\", total=audio_block_list.shape[0])):\n",
    "            image = create_spectrogram(block, sr)\n",
    "            if not os.path.exists(os.path.join(SPECTROGRAM_DIR, dataset_type)):\n",
    "                os.makedirs(os.path.join(SPECTROGRAM_DIR, dataset_type))\n",
    "            image_path = os.path.join(SPECTROGRAM_DIR, dataset_type, f\"{index:05d}.png\")\n",
    "            imageio.imsave(image_path, image)\n",
    "            image = tf.io.decode_png(tf.io.read_file(image_path))\n",
    "            example = create_example(image, image_path, emotion_list[index])\n",
    "            writer.write(example.SerializeToString())"
   ]
  },
  {
   "cell_type": "code",
   "execution_count": 22,
   "metadata": {},
   "outputs": [],
   "source": [
    "def preprocess_input_autoencoder(img):\n",
    "    img = img / 255.0\n",
    "    return img"
   ]
  },
  {
   "cell_type": "code",
   "execution_count": 23,
   "metadata": {
    "collapsed": false
   },
   "outputs": [],
   "source": [
    "def prepare_sample(features):\n",
    "    image = preprocess_input(tf.cast(features[\"image\"], tf.float32))\n",
    "    return image, features[\"emotion_id\"]"
   ]
  },
  {
   "cell_type": "code",
   "execution_count": 24,
   "metadata": {
    "collapsed": false
   },
   "outputs": [],
   "source": [
    "def prepare_sample_autoencoder(features):\n",
    "    image = preprocess_input_autoencoder(tf.cast(features[\"image\"], tf.float32))\n",
    "    return image, image"
   ]
  },
  {
   "cell_type": "code",
   "execution_count": 25,
   "metadata": {},
   "outputs": [],
   "source": [
    "def prepare_sample_train(features):\n",
    "    image = preprocess_input(tf.cast(features[\"image\"], tf.float32))\n",
    "    # image = preprocess_input_alexnet(tf.cast(features[\"image\"], tf.float32))\n",
    "    return image, features[\"emotion_id\"]\n",
    "\n",
    "\n",
    "def prepare_sample_test(features):\n",
    "    image = preprocess_input(tf.cast(features[\"image\"], tf.float32))\n",
    "    # image = preprocess_input_alexnet(tf.cast(features[\"image\"], tf.float32))\n",
    "    sample_weight = tf.squeeze(features[\"sample_weight\"])\n",
    "    return image, features[\"emotion_id\"], sample_weight"
   ]
  },
  {
   "cell_type": "code",
   "execution_count": 26,
   "metadata": {},
   "outputs": [],
   "source": [
    "def get_dataset(batch_size, dataset_type=\"train\"):\n",
    "    if dataset_type not in [\"train\", \"dev\", \"test\"]:\n",
    "        raise ValueError(\"dataset_type must be 'train', 'dev' or 'test'\")\n",
    "    AUTOTUNE = tf.data.AUTOTUNE\n",
    "    dataset = (\n",
    "        tf.data.TFRecordDataset(os.path.join(TF_RECORDS_DIR, dataset_type, TF_RECORDS_NAME), num_parallel_reads=AUTOTUNE)\n",
    "        .map(parse_tfrecord, num_parallel_calls=AUTOTUNE)\n",
    "        .map(prepare_sample, num_parallel_calls=AUTOTUNE)\n",
    "        .shuffle(batch_size * 10, seed=RANDOM_SEED)\n",
    "        .batch(batch_size)\n",
    "        .prefetch(AUTOTUNE)\n",
    "    )\n",
    "    return dataset"
   ]
  },
  {
   "cell_type": "code",
   "execution_count": 27,
   "metadata": {
    "collapsed": false
   },
   "outputs": [],
   "source": [
    "def get_dataset_autoencoder(batch_size, dataset_type=\"train\"):\n",
    "    if dataset_type not in [\"train\", \"dev\", \"test\"]:\n",
    "        raise ValueError(\"dataset_type must be 'train', 'dev' or 'test'\")\n",
    "    AUTOTUNE = tf.data.AUTOTUNE\n",
    "    if dataset_type == \"train\" or dataset_type == \"dev\":\n",
    "        dataset = (\n",
    "            tf.data.TFRecordDataset(os.path.join(TF_RECORDS_DIR, dataset_type, TF_RECORDS_NAME), num_parallel_reads=AUTOTUNE)\n",
    "            .map(parse_tfrecord_train_autoencoder, num_parallel_calls=AUTOTUNE)\n",
    "            .map(prepare_sample_autoencoder, num_parallel_calls=AUTOTUNE)\n",
    "            .shuffle(batch_size * 10, seed=RANDOM_SEED)\n",
    "            .batch(batch_size)\n",
    "            .prefetch(AUTOTUNE)\n",
    "        )\n",
    "    else:\n",
    "        dataset = (\n",
    "            tf.data.TFRecordDataset(os.path.join(TF_RECORDS_DIR, dataset_type, TF_RECORDS_NAME), num_parallel_reads=AUTOTUNE)\n",
    "            .map(parse_tfrecord_test_autoencoder, num_parallel_calls=AUTOTUNE)\n",
    "            .map(prepare_sample_autoencoder, num_parallel_calls=AUTOTUNE)\n",
    "            .shuffle(batch_size * 10, seed=RANDOM_SEED)\n",
    "            .batch(batch_size)\n",
    "            .prefetch(AUTOTUNE)\n",
    "        )\n",
    "    return dataset"
   ]
  },
  {
   "cell_type": "code",
   "execution_count": 28,
   "metadata": {
    "collapsed": false
   },
   "outputs": [],
   "source": [
    "def SSIMLoss(y_true, y_pred):\n",
    "    return 1 - tf.reduce_mean(tf.image.ssim(y_true, y_pred, 1.0))"
   ]
  },
  {
   "cell_type": "code",
   "execution_count": 29,
   "metadata": {
    "collapsed": false
   },
   "outputs": [],
   "source": [
    "def SSIMLoss_batch(y_true, y_pred):\n",
    "    return 1 - tf.image.ssim(y_true, y_pred, 1.0)"
   ]
  },
  {
   "cell_type": "code",
   "execution_count": 30,
   "metadata": {},
   "outputs": [],
   "source": [
    "def create_ser_model():\n",
    "    # Encoder\n",
    "    encoder = Sequential([\n",
    "        Conv2D(32, kernel_size=3, strides=1, padding='same', input_shape=(224, 224, 3)),\n",
    "        BatchNormalization(),\n",
    "        LeakyReLU(),\n",
    "        Conv2D(64, kernel_size=3, strides=2, padding='same'),\n",
    "        BatchNormalization(),\n",
    "        LeakyReLU(),\n",
    "        Conv2D(64, kernel_size=3, strides=2, padding='same'),\n",
    "        BatchNormalization(),\n",
    "        LeakyReLU(),\n",
    "        Conv2D(64, kernel_size=3, strides=2, padding='same'),\n",
    "        BatchNormalization(),\n",
    "        LeakyReLU(),\n",
    "        Conv2D(64, kernel_size=3, strides=2, padding='same'),\n",
    "        BatchNormalization(),\n",
    "        LeakyReLU(),\n",
    "        Conv2D(64, kernel_size=3, strides=2, padding='same'),\n",
    "        BatchNormalization(),\n",
    "        LeakyReLU(),\n",
    "    ], name='encoder')\n",
    "\n",
    "    # Decoder\n",
    "    decoder = Sequential([\n",
    "        Conv2DTranspose(64, 3, strides=1, padding='same'),\n",
    "        BatchNormalization(),\n",
    "        LeakyReLU(),\n",
    "        Conv2DTranspose(64, 3, strides=2, padding='same'),\n",
    "        BatchNormalization(),\n",
    "        LeakyReLU(),\n",
    "        Conv2DTranspose(64, 3, strides=2, padding='same'),\n",
    "        BatchNormalization(),\n",
    "        LeakyReLU(),\n",
    "        Conv2DTranspose(64, 3, strides=2, padding='same'),\n",
    "        BatchNormalization(),\n",
    "        LeakyReLU(),\n",
    "        Conv2DTranspose(64, 3, strides=2, padding='same'),\n",
    "        BatchNormalization(),\n",
    "        LeakyReLU(),\n",
    "        Conv2DTranspose(32, 3, strides=2, padding='same'),\n",
    "        BatchNormalization(),\n",
    "        LeakyReLU(),\n",
    "        Conv2DTranspose(3, 3, strides=1, padding='same', activation='sigmoid'),\n",
    "    ], name='decoder')\n",
    "\n",
    "    # Autoencoder\n",
    "    autoencoder = Sequential([\n",
    "        encoder,\n",
    "        decoder\n",
    "    ])\n",
    "\n",
    "    optimizer = tf.keras.optimizers.Adam(learning_rate=0.001)\n",
    "    autoencoder.compile(optimizer=optimizer, loss=tf.keras.losses.Huber(), metrics=['accuracy'])\n",
    "    return autoencoder"
   ]
  },
  {
   "cell_type": "code",
   "execution_count": 31,
   "metadata": {
    "collapsed": false
   },
   "outputs": [],
   "source": [
    "def predict_emotion(image_true, model_ser, model_ae):\n",
    "    image_true_ae = preprocess_input_autoencoder(image_true)\n",
    "    reconstructed_pred = model_ae.predict(image_true_ae, verbose=0)\n",
    "    anomaly_score = SSIMLoss_batch(image_true_ae, reconstructed_pred).numpy()\n",
    "    emotion_pred = model_ser.predict(image_true, verbose=0)\n",
    "    emotion_pred = np.argmax(emotion_pred, axis=1)\n",
    "    anomaly_idx = np.where(anomaly_score < THRESHOLD_AE)[0]\n",
    "    emotion_pred[anomaly_idx] = 6  # neutral index in ohe vector\n",
    "    # if anomaly_score < THRESHOLD_AE:\n",
    "    #     emotion_pred = np.array([0., 0., 0., 0., 0., 0., 1., 0.])  # neutral ohe vector\n",
    "    return emotion_pred"
   ]
  },
  {
   "cell_type": "code",
   "execution_count": 32,
   "metadata": {},
   "outputs": [],
   "source": [
    "def plot_history(history, model_name):\n",
    "    fig, axs = plt.subplots(2, 1, figsize=(15, 15))\n",
    "    fig.suptitle(model_name, size=20)\n",
    "    axs[0].plot(history.history['loss'])\n",
    "    axs[0].title.set_text('Training Loss')\n",
    "    axs[0].set_xlabel('Epochs')\n",
    "    axs[0].set_ylabel('Loss')\n",
    "    axs[1].plot(history.history['accuracy'])\n",
    "    axs[1].title.set_text('Training Accuracy')\n",
    "    axs[1].set_xlabel('Epochs')\n",
    "    axs[1].set_ylabel('Accuracy')\n",
    "    plt.show()"
   ]
  },
  {
   "cell_type": "code",
   "execution_count": 33,
   "metadata": {},
   "outputs": [],
   "source": [
    "def plot_training_curve(model_name):\n",
    "    history_json = json.load(open(os.path.join(MODEL_DIR, model_name.replace(\".h5\", \".json\")), \"r\"))\n",
    "    plt.figure(figsize=(9, 6))\n",
    "    plt.plot(history_json['accuracy'])\n",
    "    plt.xlabel(\"Epochs\")\n",
    "    plt.ylabel(\"Accuracy\")\n",
    "    plt.show()\n",
    "    plt.figure(figsize=(9, 6))\n",
    "    plt.plot(history_json['weighted_accuracy'])\n",
    "    plt.xlabel(\"Epochs\")\n",
    "    plt.ylabel(\"Weighted Accuracy\")\n",
    "    plt.show()\n",
    "    plt.figure(figsize=(9, 6))\n",
    "    plt.plot(history_json['loss'])\n",
    "    plt.xlabel(\"Epochs\")\n",
    "    plt.ylabel(\"Loss\")\n",
    "    plt.show()"
   ]
  },
  {
   "cell_type": "code",
   "execution_count": 34,
   "metadata": {},
   "outputs": [],
   "source": [
    "def get_run_logdir(root_logdir):\n",
    "    run_id = time.strftime(\"run_%Y_%m_%d-%H_%M_%S\")\n",
    "    return os.path.join(root_logdir, run_id)"
   ]
  },
  {
   "cell_type": "code",
   "execution_count": 35,
   "metadata": {},
   "outputs": [
    {
     "name": "stderr",
     "output_type": "stream",
     "text": [
      "Preprocessing audio files dataset - train: 100%|██████████| 366/366 [00:02<00:00, 167.88it/s]\n",
      "Preprocessing audio files dataset - dev: 100%|██████████| 37/37 [00:00<00:00, 385.39it/s]\n"
     ]
    }
   ],
   "source": [
    "ser_positive_df, _ = create_dataframe_emoiit_autoencoder()\n",
    "ser_train_df, ser_dev_df = train_test_split(ser_positive_df, test_size=0.1, random_state=RANDOM_SEED, stratify=ser_positive_df.emotion)\n",
    "audio_block_list_train, emotion_list_train = preprocess_dataset_autoencoder(ser_positive_df, \"train\")\n",
    "ohe_train = joblib.load(os.path.join(MODEL_DIR, MODEL_NAME.replace(\".h5\", \"_train_ohe.pkl\")))\n",
    "audio_block_list_dev, emotion_list_dev = preprocess_dataset_autoencoder(ser_dev_df, \"dev\", ohe=ohe_train)"
   ]
  },
  {
   "cell_type": "code",
   "execution_count": 36,
   "metadata": {},
   "outputs": [
    {
     "name": "stderr",
     "output_type": "stream",
     "text": [
      "Preprocessing audio files dataset - test: 100%|██████████| 113/113 [-1:59:54<00:00, -17.78it/s]\n"
     ]
    }
   ],
   "source": [
    "ser_real_df = create_dataframe_emoiit()\n",
    "_, ser_test_df = train_test_split(ser_real_df, test_size=0.2, random_state=RANDOM_SEED, stratify=ser_real_df.emotion)\n",
    "ohe_test = joblib.load(os.path.join(MODEL_DIR, \"EMO-IIT_Separate_Speakers_log_VGG16_ohe.pkl\"))\n",
    "audio_block_list_test, emotion_list_test = preprocess_dataset(ser_test_df, \"test\", ohe=ohe_test)"
   ]
  },
  {
   "cell_type": "code",
   "execution_count": 37,
   "metadata": {},
   "outputs": [
    {
     "name": "stderr",
     "output_type": "stream",
     "text": [
      "Creating Spectrogram Dataset - test:   0%|          | 0/8159 [00:00<?, ?it/s]2024-03-13 01:42:53.014066: I tensorflow/stream_executor/cuda/cuda_gpu_executor.cc:980] successful NUMA node read from SysFS had negative value (-1), but there must be at least one NUMA node, so returning NUMA node zero\n",
      "2024-03-13 01:42:53.018066: I tensorflow/stream_executor/cuda/cuda_gpu_executor.cc:980] successful NUMA node read from SysFS had negative value (-1), but there must be at least one NUMA node, so returning NUMA node zero\n",
      "2024-03-13 01:42:53.018066: I tensorflow/stream_executor/cuda/cuda_gpu_executor.cc:980] successful NUMA node read from SysFS had negative value (-1), but there must be at least one NUMA node, so returning NUMA node zero\n",
      "2024-03-13 01:42:53.022067: I tensorflow/stream_executor/cuda/cuda_gpu_executor.cc:980] successful NUMA node read from SysFS had negative value (-1), but there must be at least one NUMA node, so returning NUMA node zero\n",
      "2024-03-13 01:42:53.034067: I tensorflow/stream_executor/cuda/cuda_gpu_executor.cc:980] successful NUMA node read from SysFS had negative value (-1), but there must be at least one NUMA node, so returning NUMA node zero\n",
      "2024-03-13 01:42:53.038068: I tensorflow/stream_executor/cuda/cuda_gpu_executor.cc:980] successful NUMA node read from SysFS had negative value (-1), but there must be at least one NUMA node, so returning NUMA node zero\n",
      "2024-03-13 01:42:53.038068: I tensorflow/stream_executor/cuda/cuda_gpu_executor.cc:980] successful NUMA node read from SysFS had negative value (-1), but there must be at least one NUMA node, so returning NUMA node zero\n",
      "2024-03-13 01:42:53.042068: I tensorflow/stream_executor/cuda/cuda_gpu_executor.cc:980] successful NUMA node read from SysFS had negative value (-1), but there must be at least one NUMA node, so returning NUMA node zero\n",
      "2024-03-13 01:42:53.042068: I tensorflow/stream_executor/cuda/cuda_gpu_executor.cc:980] successful NUMA node read from SysFS had negative value (-1), but there must be at least one NUMA node, so returning NUMA node zero\n",
      "2024-03-13 01:42:53.042068: I tensorflow/stream_executor/cuda/cuda_gpu_executor.cc:980] successful NUMA node read from SysFS had negative value (-1), but there must be at least one NUMA node, so returning NUMA node zero\n",
      "2024-03-13 01:42:53.046068: I tensorflow/stream_executor/cuda/cuda_gpu_executor.cc:980] successful NUMA node read from SysFS had negative value (-1), but there must be at least one NUMA node, so returning NUMA node zero\n",
      "2024-03-13 01:42:53.046068: I tensorflow/stream_executor/cuda/cuda_gpu_executor.cc:980] successful NUMA node read from SysFS had negative value (-1), but there must be at least one NUMA node, so returning NUMA node zero\n",
      "2024-03-13 01:42:53.050069: I tensorflow/core/platform/cpu_feature_guard.cc:193] This TensorFlow binary is optimized with oneAPI Deep Neural Network Library (oneDNN) to use the following CPU instructions in performance-critical operations:  AVX2 FMA\n",
      "To enable them in other operations, rebuild TensorFlow with the appropriate compiler flags.\n",
      "2024-03-13 01:42:53.398091: I tensorflow/stream_executor/cuda/cuda_gpu_executor.cc:980] successful NUMA node read from SysFS had negative value (-1), but there must be at least one NUMA node, so returning NUMA node zero\n",
      "2024-03-13 01:42:53.398091: I tensorflow/stream_executor/cuda/cuda_gpu_executor.cc:980] successful NUMA node read from SysFS had negative value (-1), but there must be at least one NUMA node, so returning NUMA node zero\n",
      "2024-03-13 01:42:53.402091: I tensorflow/stream_executor/cuda/cuda_gpu_executor.cc:980] successful NUMA node read from SysFS had negative value (-1), but there must be at least one NUMA node, so returning NUMA node zero\n",
      "2024-03-13 01:42:53.402091: I tensorflow/stream_executor/cuda/cuda_gpu_executor.cc:980] successful NUMA node read from SysFS had negative value (-1), but there must be at least one NUMA node, so returning NUMA node zero\n",
      "2024-03-13 01:42:53.402091: I tensorflow/stream_executor/cuda/cuda_gpu_executor.cc:980] successful NUMA node read from SysFS had negative value (-1), but there must be at least one NUMA node, so returning NUMA node zero\n",
      "2024-03-13 01:42:53.406091: I tensorflow/stream_executor/cuda/cuda_gpu_executor.cc:980] successful NUMA node read from SysFS had negative value (-1), but there must be at least one NUMA node, so returning NUMA node zero\n",
      "2024-03-13 01:42:53.406091: I tensorflow/stream_executor/cuda/cuda_gpu_executor.cc:980] successful NUMA node read from SysFS had negative value (-1), but there must be at least one NUMA node, so returning NUMA node zero\n",
      "2024-03-13 01:42:53.406091: I tensorflow/stream_executor/cuda/cuda_gpu_executor.cc:980] successful NUMA node read from SysFS had negative value (-1), but there must be at least one NUMA node, so returning NUMA node zero\n",
      "2024-03-13 01:42:53.410091: I tensorflow/stream_executor/cuda/cuda_gpu_executor.cc:980] successful NUMA node read from SysFS had negative value (-1), but there must be at least one NUMA node, so returning NUMA node zero\n",
      "2024-03-13 01:42:53.410091: I tensorflow/stream_executor/cuda/cuda_gpu_executor.cc:980] successful NUMA node read from SysFS had negative value (-1), but there must be at least one NUMA node, so returning NUMA node zero\n",
      "2024-03-13 01:42:53.414092: I tensorflow/stream_executor/cuda/cuda_gpu_executor.cc:980] successful NUMA node read from SysFS had negative value (-1), but there must be at least one NUMA node, so returning NUMA node zero\n",
      "2024-03-13 01:42:53.414092: I tensorflow/stream_executor/cuda/cuda_gpu_executor.cc:980] successful NUMA node read from SysFS had negative value (-1), but there must be at least one NUMA node, so returning NUMA node zero\n",
      "2024-03-13 01:42:56.314276: I tensorflow/stream_executor/cuda/cuda_gpu_executor.cc:980] successful NUMA node read from SysFS had negative value (-1), but there must be at least one NUMA node, so returning NUMA node zero\n",
      "2024-03-13 01:42:56.314276: I tensorflow/stream_executor/cuda/cuda_gpu_executor.cc:980] successful NUMA node read from SysFS had negative value (-1), but there must be at least one NUMA node, so returning NUMA node zero\n",
      "2024-03-13 01:42:56.318276: I tensorflow/stream_executor/cuda/cuda_gpu_executor.cc:980] successful NUMA node read from SysFS had negative value (-1), but there must be at least one NUMA node, so returning NUMA node zero\n",
      "2024-03-13 01:42:56.318276: I tensorflow/stream_executor/cuda/cuda_gpu_executor.cc:980] successful NUMA node read from SysFS had negative value (-1), but there must be at least one NUMA node, so returning NUMA node zero\n",
      "2024-03-13 01:42:56.318276: I tensorflow/stream_executor/cuda/cuda_gpu_executor.cc:980] successful NUMA node read from SysFS had negative value (-1), but there must be at least one NUMA node, so returning NUMA node zero\n",
      "2024-03-13 01:42:56.322276: I tensorflow/stream_executor/cuda/cuda_gpu_executor.cc:980] successful NUMA node read from SysFS had negative value (-1), but there must be at least one NUMA node, so returning NUMA node zero\n",
      "2024-03-13 01:42:56.322276: I tensorflow/stream_executor/cuda/cuda_gpu_executor.cc:980] successful NUMA node read from SysFS had negative value (-1), but there must be at least one NUMA node, so returning NUMA node zero\n",
      "2024-03-13 01:42:56.326277: I tensorflow/stream_executor/cuda/cuda_gpu_executor.cc:980] successful NUMA node read from SysFS had negative value (-1), but there must be at least one NUMA node, so returning NUMA node zero\n",
      "2024-03-13 01:42:56.326277: I tensorflow/stream_executor/cuda/cuda_gpu_executor.cc:980] successful NUMA node read from SysFS had negative value (-1), but there must be at least one NUMA node, so returning NUMA node zero\n",
      "2024-03-13 01:42:56.326277: I tensorflow/core/common_runtime/gpu/gpu_device.cc:1616] Created device /job:localhost/replica:0/task:0/device:GPU:0 with 10779 MB memory:  -> device: 0, name: Tesla K40m, pci bus id: 0000:02:00.0, compute capability: 3.5\n",
      "2024-03-13 01:42:56.326277: I tensorflow/stream_executor/cuda/cuda_gpu_executor.cc:980] successful NUMA node read from SysFS had negative value (-1), but there must be at least one NUMA node, so returning NUMA node zero\n",
      "2024-03-13 01:42:56.330277: I tensorflow/core/common_runtime/gpu/gpu_device.cc:1616] Created device /job:localhost/replica:0/task:0/device:GPU:1 with 10779 MB memory:  -> device: 1, name: Tesla K40m, pci bus id: 0000:82:00.0, compute capability: 3.5\n",
      "2024-03-13 01:42:56.330277: I tensorflow/stream_executor/cuda/cuda_gpu_executor.cc:980] successful NUMA node read from SysFS had negative value (-1), but there must be at least one NUMA node, so returning NUMA node zero\n",
      "2024-03-13 01:42:56.330277: I tensorflow/core/common_runtime/gpu/gpu_device.cc:1616] Created device /job:localhost/replica:0/task:0/device:GPU:2 with 10779 MB memory:  -> device: 2, name: Tesla K40m, pci bus id: 0000:85:00.0, compute capability: 3.5\n",
      "2024-03-13 01:42:56.330277: I tensorflow/stream_executor/cuda/cuda_gpu_executor.cc:980] successful NUMA node read from SysFS had negative value (-1), but there must be at least one NUMA node, so returning NUMA node zero\n",
      "2024-03-13 01:42:56.334277: I tensorflow/core/common_runtime/gpu/gpu_device.cc:1616] Created device /job:localhost/replica:0/task:0/device:GPU:3 with 10779 MB memory:  -> device: 3, name: Tesla K40m, pci bus id: 0000:86:00.0, compute capability: 3.5\n",
      "Creating Spectrogram Dataset - test: 100%|██████████| 8159/8159 [11:29<00:00, 11.83it/s] \n"
     ]
    }
   ],
   "source": [
    "# create_spectrogram_dataset(audio_block_list_train, emotion_list_train, sr=SAMPLE_RATE, create_spectrogram=create_spectrogram_log, dataset_type=\"train\")\n",
    "# create_spectrogram_dataset(audio_block_list_dev, emotion_list_dev, sr=SAMPLE_RATE, create_spectrogram=create_spectrogram_log, dataset_type=\"dev\")\n",
    "create_spectrogram_dataset(audio_block_list_test, emotion_list_test, sr=SAMPLE_RATE, create_spectrogram=create_spectrogram_log, dataset_type=\"test\")"
   ]
  },
  {
   "cell_type": "code",
   "execution_count": 38,
   "metadata": {},
   "outputs": [
    {
     "name": "stdout",
     "output_type": "stream",
     "text": [
      "INFO:tensorflow:Using MirroredStrategy with devices ('/job:localhost/replica:0/task:0/device:GPU:0', '/job:localhost/replica:0/task:0/device:GPU:1', '/job:localhost/replica:0/task:0/device:GPU:2', '/job:localhost/replica:0/task:0/device:GPU:3')\n"
     ]
    }
   ],
   "source": [
    "strategy = tf.distribute.MirroredStrategy()\n",
    "num_gpus = strategy.num_replicas_in_sync\n",
    "# num_gpus = 1\n",
    "# train_dataset = get_dataset_autoencoder(batch_size=BATCH_SIZE * num_gpus, dataset_type=\"train\")\n",
    "# dev_dataset = get_dataset_autoencoder(batch_size=BATCH_SIZE * num_gpus, dataset_type=\"dev\")\n",
    "test_dataset = get_dataset(batch_size=BATCH_SIZE * num_gpus, dataset_type=\"test\")"
   ]
  },
  {
   "cell_type": "code",
   "execution_count": 39,
   "metadata": {},
   "outputs": [],
   "source": [
    "# if not os.path.exists(MODEL_DIR):\n",
    "#     os.makedirs(MODEL_DIR)\n",
    "# model = create_ser_model()\n",
    "# model.summary()"
   ]
  },
  {
   "cell_type": "code",
   "execution_count": 40,
   "metadata": {},
   "outputs": [],
   "source": [
    "# run_logdir = get_run_logdir(root_logdir=os.path.join(os.curdir, \"logs\\\\fit\\\\\"))\n",
    "# tensorboard_cb = keras.callbacks.TensorBoard(run_logdir)\n",
    "# checkpoint = ModelCheckpoint(os.path.join(MODEL_DIR, MODEL_NAME), verbose=1, monitor='accuracy', save_best_only=True, mode='auto')\n",
    "# history = model.fit(x=train_dataset, class_weight=dict(enumerate(cls_weight)), epochs=EPOCHS, verbose=1, callbacks=[tensorboard_cb, checkpoint], validation_data=dev_dataset, shuffle=False, workers=8, use_multiprocessing=True)"
   ]
  },
  {
   "cell_type": "code",
   "execution_count": 41,
   "metadata": {},
   "outputs": [],
   "source": [
    "# plot_history(history, model_name=\"Model EmoDB: Log Spectrogram\")"
   ]
  },
  {
   "cell_type": "code",
   "execution_count": 42,
   "metadata": {
    "collapsed": false
   },
   "outputs": [
    {
     "data": {
      "image/png": "[encoded data removed]",
      "text/plain": [
       "<Figure size 900x600 with 1 Axes>"
      ]
     },
     "metadata": {},
     "output_type": "display_data"
    }
   ],
   "source": [
    "history_json = json.load(open(os.path.join(MODEL_DIR, MODEL_NAME_AE.replace(\".h5\", \".json\")), \"r\"))\n",
    "plt.figure(figsize=(9, 6))\n",
    "plt.plot(history_json['accuracy'])\n",
    "plt.xlabel(\"Epochs\")\n",
    "plt.ylabel(\"Accuracy\")\n",
    "plt.show()"
   ]
  },
  {
   "cell_type": "code",
   "execution_count": 43,
   "metadata": {},
   "outputs": [
    {
     "data": {
      "image/png": "[encoded data removed]",
      "text/plain": [
       "<Figure size 900x600 with 1 Axes>"
      ]
     },
     "metadata": {},
     "output_type": "display_data"
    }
   ],
   "source": [
    "history_json = json.load(open(os.path.join(MODEL_DIR, MODEL_NAME_AE.replace(\".h5\", \".json\")), \"r\"))\n",
    "plt.figure(figsize=(9, 6))\n",
    "plt.plot(history_json['loss'])\n",
    "plt.xlabel(\"Epochs\")\n",
    "plt.ylabel(\"Loss\")\n",
    "plt.show()"
   ]
  },
  {
   "cell_type": "code",
   "execution_count": 44,
   "metadata": {},
   "outputs": [
    {
     "data": {
      "text/plain": [
       "[array(['anger', 'boredom', 'disgust', 'fear', 'hapiness', 'irritation',\n",
       "        'neutral', 'sadness'], dtype='<U10')]"
      ]
     },
     "execution_count": 44,
     "metadata": {},
     "output_type": "execute_result"
    }
   ],
   "source": [
    "ohe_test.categories_"
   ]
  },
  {
   "cell_type": "code",
   "execution_count": 45,
   "metadata": {},
   "outputs": [
    {
     "data": {
      "text/plain": [
       "<TakeDataset element_spec=(TensorSpec(shape=(None, None, None, 3), dtype=tf.float32, name=None), TensorSpec(shape=(None, 8), dtype=tf.float32, name=None))>"
      ]
     },
     "execution_count": 45,
     "metadata": {},
     "output_type": "execute_result"
    }
   ],
   "source": [
    "test_dataset.take(1)"
   ]
  },
  {
   "cell_type": "code",
   "execution_count": 46,
   "metadata": {},
   "outputs": [],
   "source": [
    "test_dataset_slices = list(test_dataset.as_numpy_iterator())\n",
    "x_true = np.concatenate([batch[0] for batch in test_dataset_slices], axis=0)\n",
    "y_true = np.concatenate([batch[1] for batch in test_dataset_slices], axis=0)\n",
    "y_true = ohe_test.inverse_transform(y_true)\n",
    "y_true = np.where(np.isin(y_true, ['anger', 'irritation', 'fear']), y_true, 'neutral')\n",
    "y_true = ohe_test.transform(y_true)\n",
    "y_true = np.argmax(y_true, axis=1)"
   ]
  },
  {
   "cell_type": "code",
   "execution_count": 47,
   "metadata": {},
   "outputs": [
    {
     "name": "stderr",
     "output_type": "stream",
     "text": [
      "Getting predictions for test set:   0%|          | 0/255 [00:00<?, ?it/s]2024-03-13 01:54:39.619571: I tensorflow/stream_executor/cuda/cuda_dnn.cc:384] Loaded cuDNN version 8301\n",
      "2024-03-13 01:54:40.547630: W tensorflow/stream_executor/gpu/redzone_allocator.cc:314] INTERNAL: couldn't get temp CUBIN file name\n",
      "Relying on driver to perform ptx compilation. \n",
      "Modify $PATH to customize ptxas location.\n",
      "This message will be only logged once.\n",
      "Getting predictions for test set: 100%|██████████| 255/255 [02:08<00:00,  1.99it/s]\n"
     ]
    }
   ],
   "source": [
    "model_ser = load_model(os.path.join(MODEL_DIR, MODEL_NAME))\n",
    "model_ae = load_model(os.path.join(MODEL_DIR, MODEL_NAME_AE))\n",
    "for i in tqdm(range(0, x_true.shape[0], BATCH_SIZE), desc=\"Getting predictions for test set\"):\n",
    "    if i == 0:\n",
    "        y_pred = predict_emotion(x_true[i:i+BATCH_SIZE], model_ser, model_ae)\n",
    "    else:\n",
    "        y_pred = np.concatenate((y_pred, predict_emotion(x_true[i:i+BATCH_SIZE], model_ser, model_ae)), axis=0)"
   ]
  },
  {
   "cell_type": "code",
   "execution_count": 48,
   "metadata": {},
   "outputs": [
    {
     "name": "stdout",
     "output_type": "stream",
     "text": [
      "Accuracy: 77.99%\n"
     ]
    }
   ],
   "source": [
    "print(f\"Accuracy: {accuracy_score(y_true, y_pred):.2%}\")"
   ]
  },
  {
   "cell_type": "code",
   "execution_count": 49,
   "metadata": {},
   "outputs": [
    {
     "name": "stdout",
     "output_type": "stream",
     "text": [
      "              precision    recall  f1-score   support\n",
      "\n",
      "       anger       0.98      0.72      0.83       483\n",
      "     boredom       0.00      0.00      0.00         0\n",
      "     disgust       0.00      0.00      0.00         0\n",
      "        fear       0.85      0.80      0.83       351\n",
      "    hapiness       0.00      0.00      0.00         0\n",
      "  irritation       1.00      1.00      1.00      4995\n",
      "     neutral       0.79      0.32      0.45      2330\n",
      "     sadness       0.00      0.00      0.00         0\n",
      "\n",
      "    accuracy                           0.78      8159\n",
      "   macro avg       0.45      0.36      0.39      8159\n",
      "weighted avg       0.93      0.78      0.83      8159\n",
      "\n"
     ]
    },
    {
     "name": "stderr",
     "output_type": "stream",
     "text": [
      "/home/bmarghescu/anaconda3/lib/python3.9/site-packages/sklearn/metrics/_classification.py:1318: UndefinedMetricWarning: Recall and F-score are ill-defined and being set to 0.0 in labels with no true samples. Use `zero_division` parameter to control this behavior.\n",
      "  _warn_prf(average, modifier, msg_start, len(result))\n",
      "/home/bmarghescu/anaconda3/lib/python3.9/site-packages/sklearn/metrics/_classification.py:1318: UndefinedMetricWarning: Recall and F-score are ill-defined and being set to 0.0 in labels with no true samples. Use `zero_division` parameter to control this behavior.\n",
      "  _warn_prf(average, modifier, msg_start, len(result))\n",
      "/home/bmarghescu/anaconda3/lib/python3.9/site-packages/sklearn/metrics/_classification.py:1318: UndefinedMetricWarning: Recall and F-score are ill-defined and being set to 0.0 in labels with no true samples. Use `zero_division` parameter to control this behavior.\n",
      "  _warn_prf(average, modifier, msg_start, len(result))\n"
     ]
    }
   ],
   "source": [
    "print(classification_report(y_true, y_pred, target_names=ohe_test.categories_[0]))"
   ]
  },
  {
   "cell_type": "code",
   "execution_count": 50,
   "metadata": {},
   "outputs": [
    {
     "data": {
      "image/png": "[encoded data removed]",
      "text/plain": [
       "<Figure size 1000x1000 with 2 Axes>"
      ]
     },
     "metadata": {},
     "output_type": "display_data"
    }
   ],
   "source": [
    "confusion_mat = confusion_matrix(y_true, y_pred, normalize=\"true\")\n",
    "plt.figure(figsize=(10, 10))\n",
    "sns.heatmap(confusion_mat, annot=True, fmt=\".2%\", xticklabels=ohe_test.categories_[0], yticklabels=ohe_test.categories_[0], cmap=\"Blues\", linewidths=0.5)\n",
    "plt.ylabel('Actual')\n",
    "plt.xlabel('Predicted')\n",
    "plt.show()"
   ]
  },
  {
   "cell_type": "code",
   "execution_count": null,
   "metadata": {},
   "outputs": [],
   "source": []
  }
 ],
 "metadata": {
  "kernelspec": {
   "display_name": "Python 3",
   "language": "python",
   "name": "python3"
  },
  "language_info": {
   "codemirror_mode": {
    "name": "ipython",
    "version": 3
   },
   "file_extension": ".py",
   "mimetype": "text/x-python",
   "name": "python",
   "nbconvert_exporter": "python",
   "pygments_lexer": "ipython3",
   "version": "3.10.11"
  },
  "orig_nbformat": 4,
  "vscode": {
   "interpreter": {
    "hash": "f4a9e923cdcd211576438a0109d8d7f51ab60e43f28b7fb24793285b30a0d4b5"
   }
  }
 },
 "nbformat": 4,
 "nbformat_minor": 2
}

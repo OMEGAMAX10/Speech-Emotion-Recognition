{
 "cells": [
  {
   "cell_type": "code",
   "execution_count": 1,
   "id": "c63333efccbecf3b",
   "metadata": {
    "ExecuteTime": {
     "end_time": "2024-04-13T18:55:32.151618Z",
     "start_time": "2024-04-13T18:55:32.140556Z"
    }
   },
   "outputs": [],
   "source": [
    "import os\n",
    "import numpy as np\n",
    "import pandas as pd\n",
    "import matplotlib.pyplot as plt\n",
    "import plotly.express as px\n",
    "from sklearn.utils import shuffle, class_weight\n",
    "from tqdm import tqdm\n",
    "from sklearn.preprocessing import StandardScaler, OneHotEncoder\n",
    "import librosa\n"
   ]
  },
  {
   "cell_type": "code",
   "execution_count": 2,
   "id": "388c86a23937ff2c",
   "metadata": {
    "ExecuteTime": {
     "end_time": "2024-04-13T18:55:35.155696Z",
     "start_time": "2024-04-13T18:55:35.139671Z"
    }
   },
   "outputs": [],
   "source": [
    "DATASET_DIR = \"Datasets/EmoDB\"\n",
    "SPECTROGRAM_DIR = \"Spectrograms/EmoDB_Separate_Speakers_v2/male/Log\"\n",
    "TF_RECORDS_DIR = \"TFRecords/EmoDB_Separate_Speakers_v2_male_VGG16\"\n",
    "TF_RECORDS_NAME = \"EmoDB_Separate_Speakers_v2_male_log_VGG16.tfrecords\"\n",
    "MODEL_DIR = \"Models\"\n",
    "MODEL_NAME = \"EmoDB_Separate_Speakers_v2_male_log_VGG16.h5\"\n",
    "NUM_CLASSES = 7\n",
    "SAMPLE_RATE = 16000\n",
    "BATCH_SIZE = 32\n",
    "EPOCHS = 50\n",
    "RANDOM_SEED = 42"
   ]
  },
  {
   "cell_type": "code",
   "execution_count": 3,
   "id": "initial_id",
   "metadata": {
    "ExecuteTime": {
     "end_time": "2024-04-13T18:55:35.472367Z",
     "start_time": "2024-04-13T18:55:35.454352Z"
    },
    "collapsed": true
   },
   "outputs": [],
   "source": [
    "def create_dataframe_emodb():\n",
    "    EMOTION_DICT_EMODB = {'W': 'anger', 'L': 'boredom', 'E': 'disgust', 'A': 'fear', 'F': 'happiness', 'T': 'sadness',\n",
    "                          'N': 'neutral'}\n",
    "    if DATASET_DIR != \"Datasets/EmoDB\" and DATASET_DIR != \"Datasets/Converted Datasets/EmoDB\":\n",
    "        raise Exception(\n",
    "            \"DATASET_DIR must be set to 'Datasets/EmoDB' or 'Datasets/Converted Datasets/EmoDB' for EmoDB dataset\")\n",
    "    file_person, file_gender, file_emotion, file_path = [], [], [], []\n",
    "    file_list = os.listdir(DATASET_DIR)\n",
    "    for file in file_list:\n",
    "        person = int(file[0:2])\n",
    "        gender = 'male' if person in [3, 10, 11, 12, 15] else 'female'\n",
    "        emotion = EMOTION_DICT_EMODB[file[5]]\n",
    "        file_person.append(person)\n",
    "        file_gender.append(gender)\n",
    "        file_emotion.append(emotion)\n",
    "        file_path.append(os.path.join(DATASET_DIR, file))\n",
    "    file_dict = {'person': file_person, 'gender': file_gender, 'emotion': file_emotion, 'path': file_path}\n",
    "    emodb_df = pd.DataFrame.from_dict(file_dict)\n",
    "    return emodb_df"
   ]
  },
  {
   "cell_type": "code",
   "execution_count": 4,
   "id": "80bf21be",
   "metadata": {},
   "outputs": [],
   "source": [
    "def preprocess_dataset(ser_df):\n",
    "    audio_block_list = []\n",
    "    emotion_list = []\n",
    "    for row in tqdm(ser_df.itertuples(), desc=f\"Preprocessing audio files dataset\", total=len(ser_df)):\n",
    "        data, _ = librosa.load(row.path, sr=SAMPLE_RATE)\n",
    "        if data.shape[0] < SAMPLE_RATE:\n",
    "            data = np.pad(data, (0, SAMPLE_RATE - data.shape[0]), 'constant')\n",
    "        frames = librosa.util.frame(data, frame_length=SAMPLE_RATE, hop_length=int(SAMPLE_RATE/100)).T\n",
    "        for frame in frames:\n",
    "            audio_block_list.append(frame)\n",
    "            emotion_list.append(row.emotion)\n",
    "    audio_block_list = np.array(audio_block_list)\n",
    "    emotion_list = np.array(emotion_list)\n",
    "    ohe = OneHotEncoder(categories='auto', sparse=False)\n",
    "    emotion_list = ohe.fit_transform(emotion_list[:, np.newaxis])\n",
    "    return audio_block_list, emotion_list"
   ]
  },
  {
   "cell_type": "code",
   "execution_count": 5,
   "id": "e02663e6fc26982b",
   "metadata": {
    "ExecuteTime": {
     "end_time": "2024-04-13T18:55:36.246437Z",
     "start_time": "2024-04-13T18:55:36.226922Z"
    }
   },
   "outputs": [],
   "source": [
    "ser_df = create_dataframe_emodb()"
   ]
  },
  {
   "cell_type": "code",
   "execution_count": 6,
   "id": "05bac5b4",
   "metadata": {},
   "outputs": [
    {
     "name": "stderr",
     "output_type": "stream",
     "text": [
      "Preprocessing audio files dataset: 100%|██████████| 535/535 [00:07<00:00, 67.00it/s] \n",
      "c:\\Users\\bogda\\AppData\\Local\\Programs\\Python\\Python310\\lib\\site-packages\\sklearn\\preprocessing\\_encoders.py:972: FutureWarning: `sparse` was renamed to `sparse_output` in version 1.2 and will be removed in 1.4. `sparse_output` is ignored unless you leave `sparse` to its default value.\n",
      "  warnings.warn(\n"
     ]
    }
   ],
   "source": [
    "audio_block_list, emotion_list = preprocess_dataset(ser_df)"
   ]
  },
  {
   "cell_type": "code",
   "execution_count": 7,
   "id": "f0ca98eb",
   "metadata": {},
   "outputs": [
    {
     "name": "stdout",
     "output_type": "stream",
     "text": [
      "Number of spectrograms: 95489\n"
     ]
    }
   ],
   "source": [
    "print(f\"Number of spectrograms: {len(audio_block_list)}\")"
   ]
  },
  {
   "cell_type": "code",
   "execution_count": 8,
   "id": "40f8c403a4971600",
   "metadata": {
    "ExecuteTime": {
     "end_time": "2024-04-13T18:55:39.765265Z",
     "start_time": "2024-04-13T18:55:39.745258Z"
    }
   },
   "outputs": [
    {
     "data": {
      "text/html": [
       "<div>\n",
       "<style scoped>\n",
       "    .dataframe tbody tr th:only-of-type {\n",
       "        vertical-align: middle;\n",
       "    }\n",
       "\n",
       "    .dataframe tbody tr th {\n",
       "        vertical-align: top;\n",
       "    }\n",
       "\n",
       "    .dataframe thead th {\n",
       "        text-align: right;\n",
       "    }\n",
       "</style>\n",
       "<table border=\"1\" class=\"dataframe\">\n",
       "  <thead>\n",
       "    <tr style=\"text-align: right;\">\n",
       "      <th></th>\n",
       "      <th>person</th>\n",
       "      <th>gender</th>\n",
       "      <th>emotion</th>\n",
       "      <th>path</th>\n",
       "    </tr>\n",
       "  </thead>\n",
       "  <tbody>\n",
       "    <tr>\n",
       "      <th>0</th>\n",
       "      <td>3</td>\n",
       "      <td>male</td>\n",
       "      <td>happiness</td>\n",
       "      <td>Datasets/EmoDB\\03a01Fa.wav</td>\n",
       "    </tr>\n",
       "    <tr>\n",
       "      <th>1</th>\n",
       "      <td>3</td>\n",
       "      <td>male</td>\n",
       "      <td>neutral</td>\n",
       "      <td>Datasets/EmoDB\\03a01Nc.wav</td>\n",
       "    </tr>\n",
       "    <tr>\n",
       "      <th>2</th>\n",
       "      <td>3</td>\n",
       "      <td>male</td>\n",
       "      <td>anger</td>\n",
       "      <td>Datasets/EmoDB\\03a01Wa.wav</td>\n",
       "    </tr>\n",
       "    <tr>\n",
       "      <th>3</th>\n",
       "      <td>3</td>\n",
       "      <td>male</td>\n",
       "      <td>happiness</td>\n",
       "      <td>Datasets/EmoDB\\03a02Fc.wav</td>\n",
       "    </tr>\n",
       "    <tr>\n",
       "      <th>4</th>\n",
       "      <td>3</td>\n",
       "      <td>male</td>\n",
       "      <td>neutral</td>\n",
       "      <td>Datasets/EmoDB\\03a02Nc.wav</td>\n",
       "    </tr>\n",
       "    <tr>\n",
       "      <th>...</th>\n",
       "      <td>...</td>\n",
       "      <td>...</td>\n",
       "      <td>...</td>\n",
       "      <td>...</td>\n",
       "    </tr>\n",
       "    <tr>\n",
       "      <th>530</th>\n",
       "      <td>16</td>\n",
       "      <td>female</td>\n",
       "      <td>boredom</td>\n",
       "      <td>Datasets/EmoDB\\16b10Lb.wav</td>\n",
       "    </tr>\n",
       "    <tr>\n",
       "      <th>531</th>\n",
       "      <td>16</td>\n",
       "      <td>female</td>\n",
       "      <td>sadness</td>\n",
       "      <td>Datasets/EmoDB\\16b10Tb.wav</td>\n",
       "    </tr>\n",
       "    <tr>\n",
       "      <th>532</th>\n",
       "      <td>16</td>\n",
       "      <td>female</td>\n",
       "      <td>sadness</td>\n",
       "      <td>Datasets/EmoDB\\16b10Td.wav</td>\n",
       "    </tr>\n",
       "    <tr>\n",
       "      <th>533</th>\n",
       "      <td>16</td>\n",
       "      <td>female</td>\n",
       "      <td>anger</td>\n",
       "      <td>Datasets/EmoDB\\16b10Wa.wav</td>\n",
       "    </tr>\n",
       "    <tr>\n",
       "      <th>534</th>\n",
       "      <td>16</td>\n",
       "      <td>female</td>\n",
       "      <td>anger</td>\n",
       "      <td>Datasets/EmoDB\\16b10Wb.wav</td>\n",
       "    </tr>\n",
       "  </tbody>\n",
       "</table>\n",
       "<p>535 rows × 4 columns</p>\n",
       "</div>"
      ],
      "text/plain": [
       "     person  gender    emotion                        path\n",
       "0         3    male  happiness  Datasets/EmoDB\\03a01Fa.wav\n",
       "1         3    male    neutral  Datasets/EmoDB\\03a01Nc.wav\n",
       "2         3    male      anger  Datasets/EmoDB\\03a01Wa.wav\n",
       "3         3    male  happiness  Datasets/EmoDB\\03a02Fc.wav\n",
       "4         3    male    neutral  Datasets/EmoDB\\03a02Nc.wav\n",
       "..      ...     ...        ...                         ...\n",
       "530      16  female    boredom  Datasets/EmoDB\\16b10Lb.wav\n",
       "531      16  female    sadness  Datasets/EmoDB\\16b10Tb.wav\n",
       "532      16  female    sadness  Datasets/EmoDB\\16b10Td.wav\n",
       "533      16  female      anger  Datasets/EmoDB\\16b10Wa.wav\n",
       "534      16  female      anger  Datasets/EmoDB\\16b10Wb.wav\n",
       "\n",
       "[535 rows x 4 columns]"
      ]
     },
     "execution_count": 8,
     "metadata": {},
     "output_type": "execute_result"
    }
   ],
   "source": [
    "ser_df"
   ]
  },
  {
   "cell_type": "code",
   "execution_count": 9,
   "id": "d334a523",
   "metadata": {},
   "outputs": [
    {
     "data": {
      "text/plain": [
       "female    302\n",
       "male      233\n",
       "Name: gender, dtype: int64"
      ]
     },
     "execution_count": 9,
     "metadata": {},
     "output_type": "execute_result"
    }
   ],
   "source": [
    "ser_df[\"gender\"].value_counts()"
   ]
  },
  {
   "cell_type": "code",
   "execution_count": 10,
   "id": "5b0b07db0581d561",
   "metadata": {},
   "outputs": [
    {
     "data": {
      "text/plain": [
       "3     49\n",
       "8     58\n",
       "9     43\n",
       "10    38\n",
       "11    55\n",
       "12    35\n",
       "13    61\n",
       "14    69\n",
       "15    56\n",
       "16    71\n",
       "Name: person, dtype: int64"
      ]
     },
     "execution_count": 10,
     "metadata": {},
     "output_type": "execute_result"
    }
   ],
   "source": [
    "# get the number of files per person, sort by person\n",
    "ser_df['person'].value_counts().sort_index()"
   ]
  },
  {
   "cell_type": "code",
   "execution_count": 11,
   "id": "52d1e34a",
   "metadata": {},
   "outputs": [
    {
     "data": {
      "text/plain": [
       "anger        127\n",
       "boredom       81\n",
       "disgust       46\n",
       "fear          69\n",
       "happiness     71\n",
       "neutral       79\n",
       "sadness       62\n",
       "Name: emotion, dtype: int64"
      ]
     },
     "execution_count": 11,
     "metadata": {},
     "output_type": "execute_result"
    }
   ],
   "source": [
    "ser_df['emotion'].value_counts().sort_index()"
   ]
  },
  {
   "cell_type": "code",
   "execution_count": 12,
   "id": "001411f7",
   "metadata": {},
   "outputs": [
    {
     "data": {
      "text/plain": [
       "emotion    gender\n",
       "anger      female    67\n",
       "           male      60\n",
       "boredom    female    46\n",
       "           male      35\n",
       "disgust    female    35\n",
       "           male      11\n",
       "fear       female    33\n",
       "           male      36\n",
       "happiness  female    44\n",
       "           male      27\n",
       "neutral    female    40\n",
       "           male      39\n",
       "sadness    female    37\n",
       "           male      25\n",
       "dtype: int64"
      ]
     },
     "execution_count": 12,
     "metadata": {},
     "output_type": "execute_result"
    }
   ],
   "source": [
    "count_by_emotion_gender = ser_df.groupby(['emotion', 'gender']).size()\n",
    "sorted_counts = count_by_emotion_gender.sort_index()\n",
    "sorted_counts"
   ]
  },
  {
   "cell_type": "code",
   "execution_count": 13,
   "id": "6c04ca13",
   "metadata": {},
   "outputs": [
    {
     "name": "stdout",
     "output_type": "stream",
     "text": [
      "\n",
      "Person 3\n",
      "anger        14\n",
      "boredom       5\n",
      "disgust       1\n",
      "fear          4\n",
      "happiness     7\n",
      "neutral      11\n",
      "sadness       7\n",
      "Name: emotion, dtype: int64\n",
      "\n",
      "Person 8\n",
      "anger        12\n",
      "boredom      10\n",
      "fear          6\n",
      "happiness    11\n",
      "neutral      10\n",
      "sadness       9\n",
      "Name: emotion, dtype: int64\n",
      "\n",
      "Person 9\n",
      "anger        13\n",
      "boredom       4\n",
      "disgust       8\n",
      "fear          1\n",
      "happiness     4\n",
      "neutral       9\n",
      "sadness       4\n",
      "Name: emotion, dtype: int64\n",
      "\n",
      "Person 10\n",
      "anger        10\n",
      "boredom       8\n",
      "disgust       1\n",
      "fear          8\n",
      "happiness     4\n",
      "neutral       4\n",
      "sadness       3\n",
      "Name: emotion, dtype: int64\n",
      "\n",
      "Person 11\n",
      "anger        11\n",
      "boredom       8\n",
      "disgust       2\n",
      "fear         10\n",
      "happiness     8\n",
      "neutral       9\n",
      "sadness       7\n",
      "Name: emotion, dtype: int64\n",
      "\n",
      "Person 12\n",
      "anger        12\n",
      "boredom       5\n",
      "disgust       2\n",
      "fear          6\n",
      "happiness     2\n",
      "neutral       4\n",
      "sadness       4\n",
      "Name: emotion, dtype: int64\n",
      "\n",
      "Person 13\n",
      "anger        12\n",
      "boredom      10\n",
      "disgust       8\n",
      "fear          7\n",
      "happiness    10\n",
      "neutral       9\n",
      "sadness       5\n",
      "Name: emotion, dtype: int64\n",
      "\n",
      "Person 14\n",
      "anger        16\n",
      "boredom       8\n",
      "disgust       8\n",
      "fear         12\n",
      "happiness     8\n",
      "neutral       7\n",
      "sadness      10\n",
      "Name: emotion, dtype: int64\n",
      "\n",
      "Person 15\n",
      "anger        13\n",
      "boredom       9\n",
      "disgust       5\n",
      "fear          8\n",
      "happiness     6\n",
      "neutral      11\n",
      "sadness       4\n",
      "Name: emotion, dtype: int64\n",
      "\n",
      "Person 16\n",
      "anger        14\n",
      "boredom      14\n",
      "disgust      11\n",
      "fear          7\n",
      "happiness    11\n",
      "neutral       5\n",
      "sadness       9\n",
      "Name: emotion, dtype: int64\n"
     ]
    }
   ],
   "source": [
    "for person in ser_df['person'].unique():\n",
    "    print(f\"\\nPerson {person}\")\n",
    "    print(ser_df[ser_df['person'] == person]['emotion'].value_counts().sort_index())"
   ]
  },
  {
   "cell_type": "code",
   "execution_count": null,
   "id": "fd02c35f",
   "metadata": {},
   "outputs": [],
   "source": []
  }
 ],
 "metadata": {
  "kernelspec": {
   "display_name": "Python 3",
   "language": "python",
   "name": "python3"
  },
  "language_info": {
   "codemirror_mode": {
    "name": "ipython",
    "version": 3
   },
   "file_extension": ".py",
   "mimetype": "text/x-python",
   "name": "python",
   "nbconvert_exporter": "python",
   "pygments_lexer": "ipython3",
   "version": "3.10.11"
  }
 },
 "nbformat": 4,
 "nbformat_minor": 5
}

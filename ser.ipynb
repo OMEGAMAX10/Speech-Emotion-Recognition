{
 "cells": [
  {
   "cell_type": "code",
   "execution_count": 1,
   "metadata": {},
   "outputs": [],
   "source": [
    "import os\n",
    "import cv2\n",
    "import json\n",
    "import time\n",
    "import joblib\n",
    "import pandas as pd\n",
    "import numpy as np\n",
    "\n",
    "import imageio\n",
    "import tensorflow as tf\n",
    "import librosa\n",
    "import librosa.display\n",
    "from tqdm import tqdm\n",
    "import seaborn as sns\n",
    "import matplotlib.pyplot as plt\n",
    "from scipy.signal.windows import hamming\n",
    "\n",
    "from sklearn.preprocessing import StandardScaler, OneHotEncoder\n",
    "from sklearn.model_selection import train_test_split\n",
    "from sklearn.utils import shuffle, class_weight\n",
    "from sklearn.metrics import confusion_matrix, classification_report, balanced_accuracy_score, accuracy_score\n",
    "\n",
    "import keras\n",
    "from keras.callbacks import EarlyStopping\n",
    "from keras.callbacks import ModelCheckpoint\n",
    "from keras.models import Sequential\n",
    "from keras.layers import Conv2D, BatchNormalization, LeakyReLU, Conv2DTranspose\n",
    "from keras.optimizers import Adam\n",
    "from keras.models import load_model\n",
    "from keras.applications.mobilenet_v3 import MobileNetV3Large, preprocess_input"
   ]
  },
  {
   "cell_type": "code",
   "execution_count": 2,
   "metadata": {},
   "outputs": [],
   "source": [
    "DATASET_DIR = \"Datasets/EMO-IIT\"\n",
    "SPECTROGRAM_DIR = \"Spectrograms/EMO-IIT/Log\"\n",
    "TF_RECORDS_DIR = \"TFRecords/EMO-IIT_AutoEncoder\"\n",
    "TF_RECORDS_NAME = \"EMO-IIT_log_AutoEncoder.tfrecords\"\n",
    "MODEL_DIR = \"Models\"\n",
    "MODEL_NAME = \"EMO-IIT_log_MobileNetV3Large.h5\"\n",
    "MODEL_NAME_AE = \"EMO-IIT_log_AutoEncoder.h5\"\n",
    "THRESHOLD_AE = 0.25\n",
    "NUM_CLASSES_POSITIVE = 5\n",
    "NUM_CLASSES_NEGATIVE = 3\n",
    "NUM_CLASSES = NUM_CLASSES_POSITIVE + NUM_CLASSES_NEGATIVE\n",
    "SAMPLE_RATE = 16000\n",
    "BATCH_SIZE = 32\n",
    "EPOCHS = 50\n",
    "RANDOM_SEED = 42"
   ]
  },
  {
   "cell_type": "code",
   "execution_count": 3,
   "metadata": {},
   "outputs": [],
   "source": [
    "def create_dataframe_emodb():\n",
    "    EMOTION_DICT_EMODB = {'W': 'anger', 'L': 'boredom', 'E': 'disgust', 'A': 'fear', 'F': 'happiness', 'T': 'sadness', 'N': 'neutral'}\n",
    "    if DATASET_DIR != \"Datasets/EmoDB\" and DATASET_DIR != \"Datasets/Converted Datasets/EmoDB\":\n",
    "        raise Exception(\"DATASET_DIR must be set to 'Datasets/EmoDB' or 'Datasets/Converted Datasets/EmoDB' for EmoDB dataset\")\n",
    "    file_person, file_gender, file_emotion, file_path = [], [], [], []\n",
    "    file_list = os.listdir(DATASET_DIR)\n",
    "    for file in file_list:\n",
    "        person = int(file[0:2])\n",
    "        gender = 'male' if person in [3, 10, 11, 12, 15] else 'female'\n",
    "        emotion = EMOTION_DICT_EMODB[file[5]]\n",
    "        file_person.append(person)\n",
    "        file_gender.append(gender)\n",
    "        file_emotion.append(emotion)\n",
    "        file_path.append(os.path.join(DATASET_DIR, file))\n",
    "    file_dict = {'person': file_person, 'gender': file_gender, 'emotion': file_emotion, 'path': file_path}\n",
    "    emodb_df = pd.DataFrame(file_dict)\n",
    "    return emodb_df"
   ]
  },
  {
   "cell_type": "code",
   "execution_count": 4,
   "metadata": {},
   "outputs": [],
   "source": [
    "def create_dataframe_emoiit():\n",
    "    if DATASET_DIR != \"Datasets/EMO-IIT\" and DATASET_DIR != \"Datasets/Converted Datasets/EMO-IIT\":\n",
    "        raise Exception(\"DATASET_DIR must be set to 'Datasets/EMO-IIT' or 'Datasets/Converted Datasets/EMO-IIT' for EMO-IIT dataset\")\n",
    "    file_emotion, file_path = [], []\n",
    "    emotion_dir_list = os.listdir(DATASET_DIR)\n",
    "    for emotion_dir in emotion_dir_list:\n",
    "        file_list = os.listdir(os.path.join(DATASET_DIR, emotion_dir))\n",
    "        for file in file_list:\n",
    "            if file.endswith('.wav'):\n",
    "                file_emotion.append(emotion_dir)\n",
    "                file_path.append(os.path.join(DATASET_DIR, emotion_dir, file))\n",
    "    file_dict = {'emotion': file_emotion, 'path': file_path}\n",
    "    emoiit_df = pd.DataFrame(file_dict)\n",
    "    emoiit_df = pd.DataFrame(shuffle(emoiit_df, random_state=RANDOM_SEED), columns=emoiit_df.columns).reset_index(drop=True, inplace=False)\n",
    "    return emoiit_df"
   ]
  },
  {
   "cell_type": "code",
   "execution_count": 5,
   "metadata": {
    "collapsed": false
   },
   "outputs": [],
   "source": [
    "def create_dataframe_emoiit_autoencoder():\n",
    "    if DATASET_DIR != \"Datasets/EMO-IIT\" and DATASET_DIR != \"Datasets/Converted Datasets/EMO-IIT\":\n",
    "        raise Exception(\"DATASET_DIR must be set to 'Datasets/EMO-IIT' or 'Datasets/Converted Datasets/EMO-IIT' for EMO-IIT dataset\")\n",
    "    file_emotion_positive, file_emotion_negative, file_path_positive, file_path_negative = [], [], [], []\n",
    "    emotion_dir_list = os.listdir(DATASET_DIR)\n",
    "    for emotion_dir in emotion_dir_list:\n",
    "        file_list = os.listdir(os.path.join(DATASET_DIR, emotion_dir))\n",
    "        for file in file_list:\n",
    "            if file.endswith('.wav'):\n",
    "                if emotion_dir in ['anger', 'irritation', 'fear']:\n",
    "                    file_emotion_negative.append(emotion_dir)\n",
    "                    file_path_negative.append(os.path.join(DATASET_DIR, emotion_dir, file))\n",
    "                else:\n",
    "                    file_emotion_positive.append(emotion_dir)\n",
    "                    file_path_positive.append(os.path.join(DATASET_DIR, emotion_dir, file))\n",
    "    file_dict_positive = {'emotion': file_emotion_positive, 'path': file_path_positive}\n",
    "    file_dict_negative = {'emotion': file_emotion_negative, 'path': file_path_negative}\n",
    "    emoiit_positive_df = pd.DataFrame(file_dict_positive)\n",
    "    emoiit_positive_df = pd.DataFrame(shuffle(emoiit_positive_df, random_state=RANDOM_SEED), columns=emoiit_positive_df.columns).reset_index(drop=True, inplace=False)\n",
    "    emoiit_negative_df = pd.DataFrame(file_dict_negative)\n",
    "    emoiit_negative_df = pd.DataFrame(shuffle(emoiit_negative_df, random_state=RANDOM_SEED), columns=emoiit_negative_df.columns).reset_index(drop=True, inplace=False)\n",
    "    return emoiit_positive_df, emoiit_negative_df"
   ]
  },
  {
   "cell_type": "code",
   "execution_count": 6,
   "metadata": {
    "collapsed": false
   },
   "outputs": [],
   "source": [
    "def create_dataframe_emoiit_separate_speakers():\n",
    "    assert (DATASET_DIR == \"Datasets/EMO-IIT_Separate_Speakers\" or DATASET_DIR == \"Datasets/Converted Datasets/EMO-IIT_Separate_Speakers\"), \"DATASET_DIR must be set to 'Datasets/EMO-IIT_Separate_Speakers' or 'Datasets/Converted Datasets/EMO-IIT_Separate_Speakers'\"\n",
    "    file_emotion_train, file_emotion_test, file_path_train, file_path_test = [], [], [], []\n",
    "    dataset_type = os.listdir(DATASET_DIR)\n",
    "    for type in dataset_type:\n",
    "        emotion_dir_list = os.listdir(os.path.join(DATASET_DIR, type))\n",
    "        for emotion_dir in emotion_dir_list:\n",
    "            emotion_dir_path = os.path.join(DATASET_DIR, type, emotion_dir)\n",
    "            emotion_dir_files = os.listdir(emotion_dir_path)\n",
    "            for file in emotion_dir_files:\n",
    "                if file.endswith(\".wav\"):\n",
    "                    if type == \"train\":\n",
    "                        file_emotion_train.append(emotion_dir)\n",
    "                        file_path_train.append(os.path.join(emotion_dir_path, file))\n",
    "                    elif type == \"test\":\n",
    "                        file_emotion_test.append(emotion_dir)\n",
    "                        file_path_test.append(os.path.join(emotion_dir_path, file))\n",
    "    df_train = pd.DataFrame({\"emotion\": file_emotion_train, \"path\": file_path_train})\n",
    "    df_train = pd.DataFrame(shuffle(df_train, random_state=RANDOM_SEED), columns=df_train.columns).reset_index(drop=True, inplace=False)\n",
    "    df_test = pd.DataFrame({\"emotion\": file_emotion_test, \"path\": file_path_test})\n",
    "    df_test = pd.DataFrame(shuffle(df_test, random_state=RANDOM_SEED), columns=df_test.columns).reset_index(drop=True, inplace=False)\n",
    "    return df_train, df_test"
   ]
  },
  {
   "cell_type": "code",
   "execution_count": 7,
   "metadata": {},
   "outputs": [],
   "source": [
    "def create_dataframe_ravdess():\n",
    "    emotion_list = ['neutral', 'calm', 'happy', 'sad', 'angry', 'fearful', 'disgust', 'surprised']\n",
    "    if DATASET_DIR != \"Datasets/RAVDESS/audio_speech_actors_01-24\" and DATASET_DIR != \"Datasets/Converted Datasets/RAVDESS\":\n",
    "        raise Exception(\"DATASET_DIR must be set to 'Datasets/RAVDESS/audio_speech_actors_01-24' or 'Datasets/Converted Datasets/RAVDESS' for RAVDESS dataset\")\n",
    "    file_person, file_gender, file_emotion, file_intensity, file_path = [], [], [], [], []\n",
    "    person_dir_list = os.listdir(DATASET_DIR)\n",
    "    for person_dir in person_dir_list:\n",
    "        if person_dir.startswith(\"Actor_\"):\n",
    "            person = int(person_dir.split(\"_\")[1])\n",
    "            file_list_person = os.listdir(os.path.join(DATASET_DIR, person_dir))\n",
    "            for file in file_list_person:\n",
    "                if file.endswith(\".wav\"):\n",
    "                    file_person.append(person)\n",
    "                    file_path.append(os.path.join(DATASET_DIR, person_dir, file))\n",
    "                    file_gender.append(\"male\" if person % 2 == 1 else \"female\")\n",
    "                    file_emotion.append(emotion_list[int(file.split(\"-\")[2]) - 1])\n",
    "                    file_intensity.append(int(file.split(\"-\")[3].split(\".\")[0]))\n",
    "    file_dict = {'person': file_person, 'gender': file_gender, 'emotion': file_emotion, 'intensity': file_intensity, 'path': file_path}\n",
    "    ravdess_df = pd.DataFrame(file_dict)\n",
    "    ravdess_df = pd.DataFrame(shuffle(ravdess_df, random_state=RANDOM_SEED), columns=ravdess_df.columns).reset_index(drop=True, inplace=False)\n",
    "    return ravdess_df"
   ]
  },
  {
   "cell_type": "code",
   "execution_count": 8,
   "metadata": {},
   "outputs": [],
   "source": [
    "def preprocess_dataset(ser_df, dataset_type, ohe=None, fold=None):\n",
    "    audio_block_list = []\n",
    "    emotion_list = []\n",
    "    for row in tqdm(ser_df.itertuples(), desc=f\"Preprocessing audio files dataset - {dataset_type}\", total=len(ser_df)):\n",
    "        data, _ = librosa.load(row.path, sr=SAMPLE_RATE)\n",
    "        if data.shape[0] < SAMPLE_RATE:\n",
    "            data = np.pad(data, (0, SAMPLE_RATE - data.shape[0]), 'constant')\n",
    "        frames = librosa.util.frame(data, frame_length=SAMPLE_RATE, hop_length=int(SAMPLE_RATE/100)).T\n",
    "        for frame in frames:\n",
    "            audio_block_list.append(frame)\n",
    "            emotion_list.append(row.emotion)\n",
    "    audio_block_list = np.array(audio_block_list)\n",
    "    emotion_list = np.array(emotion_list)\n",
    "    if ohe is None:\n",
    "        ohe = OneHotEncoder(categories='auto', sparse=False)\n",
    "        emotion_list = ohe.fit_transform(emotion_list[:, np.newaxis])\n",
    "        ohe_path = os.path.join(MODEL_DIR, MODEL_NAME.replace(\".h5\", f\"_fold_{fold + 1}_ohe.pkl\")) if fold is not None else os.path.join(MODEL_DIR, MODEL_NAME.replace(\".h5\", \"_ohe.pkl\"))\n",
    "        joblib.dump(ohe, ohe_path)\n",
    "    else:\n",
    "        emotion_list = ohe.transform(emotion_list[:, np.newaxis])\n",
    "    return audio_block_list, emotion_list"
   ]
  },
  {
   "cell_type": "code",
   "execution_count": 9,
   "metadata": {
    "collapsed": false
   },
   "outputs": [],
   "source": [
    "def preprocess_dataset_autoencoder(ser_df, dataset_type, ohe=None, fold=None):\n",
    "    audio_block_list = []\n",
    "    emotion_list = []\n",
    "    for row in tqdm(ser_df.itertuples(), desc=f\"Preprocessing audio files dataset - {dataset_type}\", total=len(ser_df)):\n",
    "        data, _ = librosa.load(row.path, sr=SAMPLE_RATE)\n",
    "        if data.shape[0] < SAMPLE_RATE:\n",
    "            data = np.pad(data, (0, SAMPLE_RATE - data.shape[0]), 'constant')\n",
    "        frames = librosa.util.frame(data, frame_length=SAMPLE_RATE, hop_length=int(SAMPLE_RATE/100)).T\n",
    "        for frame in frames:\n",
    "            audio_block_list.append(frame)\n",
    "            emotion_list.append(row.emotion)\n",
    "    audio_block_list = np.array(audio_block_list)\n",
    "    emotion_list = np.array(emotion_list)\n",
    "    if ohe is None:\n",
    "        ohe = OneHotEncoder(categories='auto', sparse=False)\n",
    "        emotion_list = ohe.fit_transform(emotion_list[:, np.newaxis])\n",
    "        ohe_path = os.path.join(MODEL_DIR, MODEL_NAME.replace(\".h5\", f\"_fold_{fold + 1}_{dataset_type}_ohe.pkl\")) if fold is not None else os.path.join(MODEL_DIR, MODEL_NAME.replace(\".h5\", f\"_{dataset_type}_ohe.pkl\"))\n",
    "        joblib.dump(ohe, ohe_path)\n",
    "    else:\n",
    "        emotion_list = ohe.transform(emotion_list[:, np.newaxis])\n",
    "    return audio_block_list, emotion_list"
   ]
  },
  {
   "cell_type": "code",
   "execution_count": 10,
   "metadata": {},
   "outputs": [],
   "source": [
    "def create_spectrogram_log(data, sr):\n",
    "    X = np.abs(librosa.stft(data, window=hamming(int(np.round(sr / 1000) * 32)), n_fft=int(np.round(sr / 1000) * 32), hop_length=int(np.round(sr / 1000) * 4)))\n",
    "    Xdb = librosa.amplitude_to_db(np.abs(X), ref=np.max)\n",
    "    cmap = plt.cm.jet\n",
    "    norm = plt.Normalize(vmin=-90, vmax=-7)\n",
    "    image = cmap(norm(Xdb))\n",
    "    image = image[:, :, :3]\n",
    "    image = cv2.normalize(src=np.flip(image, axis=0), dst=None, alpha=0, beta=255, norm_type=cv2.NORM_MINMAX, dtype=cv2.CV_8U)\n",
    "    image = cv2.resize(image, (224, 224), interpolation=cv2.INTER_LINEAR)\n",
    "    return image"
   ]
  },
  {
   "cell_type": "code",
   "execution_count": 11,
   "metadata": {},
   "outputs": [],
   "source": [
    "def create_spectrogram_linear(data, sr):\n",
    "    X = np.abs(librosa.stft(data, window=hamming(int(np.round(sr / 1000) * 32)), n_fft=int(np.round(sr / 1000) * 32), hop_length=int(np.round(sr / 1000) * 4)))\n",
    "    cmap = plt.cm.jet\n",
    "    norm = plt.Normalize(vmin=np.amin(X), vmax=np.amax(X))\n",
    "    image = cmap(norm(X))\n",
    "    image = image[:, :, :3]\n",
    "    image = cv2.normalize(src=np.flip(image, axis=0), dst=None, alpha=0, beta=255, norm_type=cv2.NORM_MINMAX, dtype=cv2.CV_8U)\n",
    "    image = cv2.resize(image, (224, 224), interpolation=cv2.INTER_LINEAR)\n",
    "    return image"
   ]
  },
  {
   "cell_type": "code",
   "execution_count": 12,
   "metadata": {},
   "outputs": [],
   "source": [
    "def create_spectrogram_mel(data, sr):\n",
    "    Xmel = np.abs(librosa.feature.melspectrogram(y=data, sr=sr, n_mels=128, window=hamming(int(np.round(sr / 1000) * 32)), n_fft=int(np.round(sr / 1000) * 32), hop_length=int(np.round(sr / 1000) * 4)))\n",
    "    X_mel_db = librosa.amplitude_to_db(Xmel, ref=np.max)\n",
    "    cmap = plt.cm.jet\n",
    "    norm = plt.Normalize(vmin=-90, vmax=-7)\n",
    "    image = cmap(norm(X_mel_db))\n",
    "    image = image[:, :, :3]\n",
    "    image = cv2.normalize(src=np.flip(image, axis=0), dst=None, alpha=0, beta=255, norm_type=cv2.NORM_MINMAX, dtype=cv2.CV_8U)\n",
    "    image = cv2.resize(image, (224, 224), interpolation=cv2.INTER_LINEAR)\n",
    "    return image"
   ]
  },
  {
   "cell_type": "code",
   "execution_count": 13,
   "metadata": {},
   "outputs": [],
   "source": [
    "def create_spectrogram_hpss(data, sr):\n",
    "    X = librosa.stft(data, window=hamming(int(np.round(sr / 1000) * 32)), n_fft=int(np.round(sr / 1000) * 32), hop_length=int(np.round(sr / 1000) * 4))\n",
    "    X_harmonic, X_percussive = librosa.decompose.hpss(X)\n",
    "    X_db = librosa.amplitude_to_db(np.abs(X), ref=np.max)\n",
    "    X_harmonic_db = librosa.amplitude_to_db(np.abs(X_harmonic), ref=np.max)\n",
    "    X_percussive_db = librosa.amplitude_to_db(np.abs(X_percussive), ref=np.max)\n",
    "    image = np.hstack((X_db, X_harmonic_db, X_percussive_db))\n",
    "    cmap = plt.cm.jet\n",
    "    norm = plt.Normalize(vmin=-90, vmax=-7)\n",
    "    image = cmap(norm(image))\n",
    "    image = image[:, :, :3]\n",
    "    image = cv2.normalize(src=np.flip(image, axis=0), dst=None, alpha=0, beta=255, norm_type=cv2.NORM_MINMAX, dtype=cv2.CV_8U)\n",
    "    image = cv2.resize(image, (224, 224), interpolation=cv2.INTER_LINEAR)\n",
    "    return image"
   ]
  },
  {
   "cell_type": "code",
   "execution_count": 14,
   "metadata": {},
   "outputs": [],
   "source": [
    "def image_feature(value):\n",
    "    \"\"\"Returns a bytes_list from a string / byte.\"\"\"\n",
    "    return tf.train.Feature(\n",
    "        bytes_list=tf.train.BytesList(value=[tf.io.encode_png(value).numpy()])\n",
    "    )\n",
    "\n",
    "\n",
    "def bytes_feature(value):\n",
    "    \"\"\"Returns a bytes_list from a string / byte.\"\"\"\n",
    "    return tf.train.Feature(bytes_list=tf.train.BytesList(value=[value.encode()]))\n",
    "\n",
    "\n",
    "def float_feature(value):\n",
    "    \"\"\"Returns a float_list from a float / double.\"\"\"\n",
    "    return tf.train.Feature(float_list=tf.train.FloatList(value=value))"
   ]
  },
  {
   "cell_type": "code",
   "execution_count": 15,
   "metadata": {},
   "outputs": [],
   "source": [
    "def create_example(image, path, emotion_id):\n",
    "    feature = {\n",
    "        \"image\": image_feature(image),\n",
    "        \"path\": bytes_feature(path),\n",
    "        \"emotion_id\": float_feature(emotion_id),\n",
    "    }\n",
    "    return tf.train.Example(features=tf.train.Features(feature=feature))"
   ]
  },
  {
   "cell_type": "code",
   "execution_count": 16,
   "metadata": {
    "collapsed": false
   },
   "outputs": [],
   "source": [
    "def parse_tfrecord_train_autoencoder(example):\n",
    "    feature_description = {\n",
    "        \"image\": tf.io.FixedLenFeature([], tf.string),\n",
    "        \"path\": tf.io.FixedLenFeature([], tf.string),\n",
    "        \"emotion_id\": tf.io.FixedLenFeature([NUM_CLASSES_POSITIVE], tf.float32),\n",
    "    }\n",
    "    example = tf.io.parse_single_example(example, feature_description)\n",
    "    example[\"image\"] = tf.io.decode_png(example[\"image\"], channels=3)\n",
    "    return example"
   ]
  },
  {
   "cell_type": "code",
   "execution_count": 17,
   "metadata": {
    "collapsed": false
   },
   "outputs": [],
   "source": [
    "def parse_tfrecord_test_autoencoder(example):\n",
    "    feature_description = {\n",
    "        \"image\": tf.io.FixedLenFeature([], tf.string),\n",
    "        \"path\": tf.io.FixedLenFeature([], tf.string),\n",
    "        \"emotion_id\": tf.io.FixedLenFeature([NUM_CLASSES_NEGATIVE], tf.float32),\n",
    "    }\n",
    "    example = tf.io.parse_single_example(example, feature_description)\n",
    "    example[\"image\"] = tf.io.decode_png(example[\"image\"], channels=3)\n",
    "    return example"
   ]
  },
  {
   "cell_type": "code",
   "execution_count": 18,
   "metadata": {},
   "outputs": [],
   "source": [
    "def create_example_test(image, path, emotion_id, sample_weight):\n",
    "    feature = {\n",
    "        \"image\": image_feature(image),\n",
    "        \"path\": bytes_feature(path),\n",
    "        \"emotion_id\": float_feature(emotion_id),\n",
    "        \"sample_weight\": float_feature(sample_weight),\n",
    "    }\n",
    "    return tf.train.Example(features=tf.train.Features(feature=feature))"
   ]
  },
  {
   "cell_type": "code",
   "execution_count": 19,
   "metadata": {
    "collapsed": false
   },
   "outputs": [],
   "source": [
    "def parse_tfrecord(example):\n",
    "    feature_description = {\n",
    "        \"image\": tf.io.FixedLenFeature([], tf.string),\n",
    "        \"path\": tf.io.FixedLenFeature([], tf.string),\n",
    "        \"emotion_id\": tf.io.FixedLenFeature([NUM_CLASSES], tf.float32),\n",
    "    }\n",
    "    example = tf.io.parse_single_example(example, feature_description)\n",
    "    example[\"image\"] = tf.io.decode_png(example[\"image\"], channels=3)\n",
    "    return example"
   ]
  },
  {
   "cell_type": "code",
   "execution_count": 20,
   "metadata": {},
   "outputs": [],
   "source": [
    "def parse_tfrecord_train(example):\n",
    "    feature_description = {\n",
    "        \"image\": tf.io.FixedLenFeature([], tf.string),\n",
    "        \"path\": tf.io.FixedLenFeature([], tf.string),\n",
    "        \"emotion_id\": tf.io.FixedLenFeature([NUM_CLASSES], tf.float32),\n",
    "    }\n",
    "    example = tf.io.parse_single_example(example, feature_description)\n",
    "    example[\"image\"] = tf.io.decode_png(example[\"image\"], channels=3)\n",
    "    return example\n",
    "\n",
    "\n",
    "def parse_tfrecord_test(example):\n",
    "    feature_description = {\n",
    "        \"image\": tf.io.FixedLenFeature([], tf.string),\n",
    "        \"path\": tf.io.FixedLenFeature([], tf.string),\n",
    "        \"emotion_id\": tf.io.FixedLenFeature([NUM_CLASSES], tf.float32),\n",
    "        \"sample_weight\": tf.io.FixedLenFeature([1], tf.float32),\n",
    "    }\n",
    "    example = tf.io.parse_single_example(example, feature_description)\n",
    "    example[\"image\"] = tf.io.decode_png(example[\"image\"], channels=3)\n",
    "    return example"
   ]
  },
  {
   "cell_type": "code",
   "execution_count": 21,
   "metadata": {},
   "outputs": [],
   "source": [
    "def create_spectrogram_dataset(audio_block_list, emotion_list, sr, create_spectrogram, dataset_type=\"train\"):\n",
    "    if dataset_type not in [\"train\", \"dev\", \"test\"]:\n",
    "        raise ValueError(\"dataset_type must be 'train', 'dev' or 'test'\")\n",
    "    if not os.path.exists(os.path.join(TF_RECORDS_DIR, dataset_type)):\n",
    "        os.makedirs(os.path.join(TF_RECORDS_DIR, dataset_type))\n",
    "    with tf.io.TFRecordWriter(os.path.join(TF_RECORDS_DIR, dataset_type, TF_RECORDS_NAME)) as writer:\n",
    "        for index, block in enumerate(tqdm(audio_block_list, desc=f\"Creating Spectrogram Dataset - {dataset_type}\", total=audio_block_list.shape[0])):\n",
    "            image = create_spectrogram(block, sr)\n",
    "            if not os.path.exists(os.path.join(SPECTROGRAM_DIR, dataset_type)):\n",
    "                os.makedirs(os.path.join(SPECTROGRAM_DIR, dataset_type))\n",
    "            image_path = os.path.join(SPECTROGRAM_DIR, dataset_type, f\"{index:05d}.png\")\n",
    "            imageio.imsave(image_path, image)\n",
    "            image = tf.io.decode_png(tf.io.read_file(image_path))\n",
    "            example = create_example(image, image_path, emotion_list[index])\n",
    "            writer.write(example.SerializeToString())"
   ]
  },
  {
   "cell_type": "code",
   "execution_count": 22,
   "metadata": {},
   "outputs": [],
   "source": [
    "def preprocess_input_autoencoder(img):\n",
    "    img = img / 255.0\n",
    "    return img"
   ]
  },
  {
   "cell_type": "code",
   "execution_count": 23,
   "metadata": {
    "collapsed": false
   },
   "outputs": [],
   "source": [
    "def prepare_sample(features):\n",
    "    image = preprocess_input(tf.cast(features[\"image\"], tf.float32))\n",
    "    return image, features[\"emotion_id\"]"
   ]
  },
  {
   "cell_type": "code",
   "execution_count": 24,
   "metadata": {
    "collapsed": false
   },
   "outputs": [],
   "source": [
    "def prepare_sample_autoencoder(features):\n",
    "    image = preprocess_input_autoencoder(tf.cast(features[\"image\"], tf.float32))\n",
    "    return image, image"
   ]
  },
  {
   "cell_type": "code",
   "execution_count": 25,
   "metadata": {},
   "outputs": [],
   "source": [
    "def prepare_sample_train(features):\n",
    "    image = preprocess_input(tf.cast(features[\"image\"], tf.float32))\n",
    "    # image = preprocess_input_alexnet(tf.cast(features[\"image\"], tf.float32))\n",
    "    return image, features[\"emotion_id\"]\n",
    "\n",
    "\n",
    "def prepare_sample_test(features):\n",
    "    image = preprocess_input(tf.cast(features[\"image\"], tf.float32))\n",
    "    # image = preprocess_input_alexnet(tf.cast(features[\"image\"], tf.float32))\n",
    "    sample_weight = tf.squeeze(features[\"sample_weight\"])\n",
    "    return image, features[\"emotion_id\"], sample_weight"
   ]
  },
  {
   "cell_type": "code",
   "execution_count": 26,
   "metadata": {},
   "outputs": [],
   "source": [
    "def get_dataset(batch_size, dataset_type=\"train\"):\n",
    "    if dataset_type not in [\"train\", \"dev\", \"test\"]:\n",
    "        raise ValueError(\"dataset_type must be 'train', 'dev' or 'test'\")\n",
    "    AUTOTUNE = tf.data.AUTOTUNE\n",
    "    dataset = (\n",
    "        tf.data.TFRecordDataset(os.path.join(TF_RECORDS_DIR, dataset_type, TF_RECORDS_NAME), num_parallel_reads=AUTOTUNE)\n",
    "        .map(parse_tfrecord, num_parallel_calls=AUTOTUNE)\n",
    "        .map(prepare_sample, num_parallel_calls=AUTOTUNE)\n",
    "        .shuffle(batch_size * 10, seed=RANDOM_SEED)\n",
    "        .batch(batch_size)\n",
    "        .prefetch(AUTOTUNE)\n",
    "    )\n",
    "    return dataset"
   ]
  },
  {
   "cell_type": "code",
   "execution_count": 27,
   "metadata": {
    "collapsed": false
   },
   "outputs": [],
   "source": [
    "def get_dataset_autoencoder(batch_size, dataset_type=\"train\"):\n",
    "    if dataset_type not in [\"train\", \"dev\", \"test\"]:\n",
    "        raise ValueError(\"dataset_type must be 'train', 'dev' or 'test'\")\n",
    "    AUTOTUNE = tf.data.AUTOTUNE\n",
    "    if dataset_type == \"train\" or dataset_type == \"dev\":\n",
    "        dataset = (\n",
    "            tf.data.TFRecordDataset(os.path.join(TF_RECORDS_DIR, dataset_type, TF_RECORDS_NAME), num_parallel_reads=AUTOTUNE)\n",
    "            .map(parse_tfrecord_train_autoencoder, num_parallel_calls=AUTOTUNE)\n",
    "            .map(prepare_sample_autoencoder, num_parallel_calls=AUTOTUNE)\n",
    "            .shuffle(batch_size * 10, seed=RANDOM_SEED)\n",
    "            .batch(batch_size)\n",
    "            .prefetch(AUTOTUNE)\n",
    "        )\n",
    "    else:\n",
    "        dataset = (\n",
    "            tf.data.TFRecordDataset(os.path.join(TF_RECORDS_DIR, dataset_type, TF_RECORDS_NAME), num_parallel_reads=AUTOTUNE)\n",
    "            .map(parse_tfrecord_test_autoencoder, num_parallel_calls=AUTOTUNE)\n",
    "            .map(prepare_sample_autoencoder, num_parallel_calls=AUTOTUNE)\n",
    "            .shuffle(batch_size * 10, seed=RANDOM_SEED)\n",
    "            .batch(batch_size)\n",
    "            .prefetch(AUTOTUNE)\n",
    "        )\n",
    "    return dataset"
   ]
  },
  {
   "cell_type": "code",
   "execution_count": 28,
   "metadata": {
    "collapsed": false
   },
   "outputs": [],
   "source": [
    "def SSIMLoss(y_true, y_pred):\n",
    "    return 1 - tf.reduce_mean(tf.image.ssim(y_true, y_pred, 1.0))"
   ]
  },
  {
   "cell_type": "code",
   "execution_count": 29,
   "metadata": {
    "collapsed": false
   },
   "outputs": [],
   "source": [
    "def SSIMLoss_batch(y_true, y_pred):\n",
    "    return 1 - tf.image.ssim(y_true, y_pred, 1.0)"
   ]
  },
  {
   "cell_type": "code",
   "execution_count": 30,
   "metadata": {},
   "outputs": [],
   "source": [
    "def create_ser_model():\n",
    "    # Encoder\n",
    "    encoder = Sequential([\n",
    "        Conv2D(32, kernel_size=3, strides=1, padding='same', input_shape=(224, 224, 3)),\n",
    "        BatchNormalization(),\n",
    "        LeakyReLU(),\n",
    "        Conv2D(64, kernel_size=3, strides=2, padding='same'),\n",
    "        BatchNormalization(),\n",
    "        LeakyReLU(),\n",
    "        Conv2D(64, kernel_size=3, strides=2, padding='same'),\n",
    "        BatchNormalization(),\n",
    "        LeakyReLU(),\n",
    "        Conv2D(64, kernel_size=3, strides=2, padding='same'),\n",
    "        BatchNormalization(),\n",
    "        LeakyReLU(),\n",
    "        Conv2D(64, kernel_size=3, strides=2, padding='same'),\n",
    "        BatchNormalization(),\n",
    "        LeakyReLU(),\n",
    "        Conv2D(64, kernel_size=3, strides=2, padding='same'),\n",
    "        BatchNormalization(),\n",
    "        LeakyReLU(),\n",
    "    ], name='encoder')\n",
    "\n",
    "    # Decoder\n",
    "    decoder = Sequential([\n",
    "        Conv2DTranspose(64, 3, strides=1, padding='same'),\n",
    "        BatchNormalization(),\n",
    "        LeakyReLU(),\n",
    "        Conv2DTranspose(64, 3, strides=2, padding='same'),\n",
    "        BatchNormalization(),\n",
    "        LeakyReLU(),\n",
    "        Conv2DTranspose(64, 3, strides=2, padding='same'),\n",
    "        BatchNormalization(),\n",
    "        LeakyReLU(),\n",
    "        Conv2DTranspose(64, 3, strides=2, padding='same'),\n",
    "        BatchNormalization(),\n",
    "        LeakyReLU(),\n",
    "        Conv2DTranspose(64, 3, strides=2, padding='same'),\n",
    "        BatchNormalization(),\n",
    "        LeakyReLU(),\n",
    "        Conv2DTranspose(32, 3, strides=2, padding='same'),\n",
    "        BatchNormalization(),\n",
    "        LeakyReLU(),\n",
    "        Conv2DTranspose(3, 3, strides=1, padding='same', activation='sigmoid'),\n",
    "    ], name='decoder')\n",
    "\n",
    "    # Autoencoder\n",
    "    autoencoder = Sequential([\n",
    "        encoder,\n",
    "        decoder\n",
    "    ])\n",
    "\n",
    "    optimizer = tf.keras.optimizers.Adam(learning_rate=0.001)\n",
    "    autoencoder.compile(optimizer=optimizer, loss=tf.keras.losses.Huber(), metrics=['accuracy'])\n",
    "    return autoencoder"
   ]
  },
  {
   "cell_type": "code",
   "execution_count": 31,
   "metadata": {
    "collapsed": false
   },
   "outputs": [],
   "source": [
    "def predict_emotion(image_true, model_ser, model_ae, threshold=THRESHOLD_AE):\n",
    "    image_true_ae = preprocess_input_autoencoder(image_true)\n",
    "    reconstructed_pred = model_ae.predict(image_true_ae, verbose=0)\n",
    "    anomaly_score = SSIMLoss_batch(image_true_ae, reconstructed_pred).numpy()\n",
    "    emotion_pred = model_ser.predict(image_true, verbose=0)\n",
    "    emotion_pred = np.argmax(emotion_pred, axis=1)\n",
    "    anomaly_idx = np.where(anomaly_score < threshold)[0]\n",
    "    emotion_pred[anomaly_idx] = 6  # neutral index in ohe vector\n",
    "    return emotion_pred"
   ]
  },
  {
   "cell_type": "code",
   "execution_count": 32,
   "metadata": {},
   "outputs": [],
   "source": [
    "def plot_history(history, model_name):\n",
    "    fig, axs = plt.subplots(2, 1, figsize=(15, 15))\n",
    "    fig.suptitle(model_name, size=20)\n",
    "    axs[0].plot(history.history['loss'])\n",
    "    axs[0].title.set_text('Training Loss')\n",
    "    axs[0].set_xlabel('Epochs')\n",
    "    axs[0].set_ylabel('Loss')\n",
    "    axs[1].plot(history.history['accuracy'])\n",
    "    axs[1].title.set_text('Training Accuracy')\n",
    "    axs[1].set_xlabel('Epochs')\n",
    "    axs[1].set_ylabel('Accuracy')\n",
    "    plt.show()"
   ]
  },
  {
   "cell_type": "code",
   "execution_count": 33,
   "metadata": {},
   "outputs": [],
   "source": [
    "def plot_training_curve(model_name):\n",
    "    history_json = json.load(open(os.path.join(MODEL_DIR, model_name.replace(\".h5\", \".json\")), \"r\"))\n",
    "    plt.figure(figsize=(9, 6))\n",
    "    plt.plot(history_json['accuracy'])\n",
    "    plt.xlabel(\"Epochs\")\n",
    "    plt.ylabel(\"Accuracy\")\n",
    "    plt.show()\n",
    "    plt.figure(figsize=(9, 6))\n",
    "    plt.plot(history_json['weighted_accuracy'])\n",
    "    plt.xlabel(\"Epochs\")\n",
    "    plt.ylabel(\"Weighted Accuracy\")\n",
    "    plt.show()\n",
    "    plt.figure(figsize=(9, 6))\n",
    "    plt.plot(history_json['loss'])\n",
    "    plt.xlabel(\"Epochs\")\n",
    "    plt.ylabel(\"Loss\")\n",
    "    plt.show()"
   ]
  },
  {
   "cell_type": "code",
   "execution_count": 34,
   "metadata": {},
   "outputs": [],
   "source": [
    "def get_run_logdir(root_logdir):\n",
    "    run_id = time.strftime(\"run_%Y_%m_%d-%H_%M_%S\")\n",
    "    return os.path.join(root_logdir, run_id)"
   ]
  },
  {
   "cell_type": "code",
   "execution_count": 35,
   "metadata": {},
   "outputs": [
    {
     "name": "stderr",
     "output_type": "stream",
     "text": [
      "Preprocessing audio files dataset - train: 100%|██████████| 366/366 [00:04<00:00, 86.16it/s] \n",
      "c:\\Users\\bogda\\AppData\\Local\\Programs\\Python\\Python310\\lib\\site-packages\\sklearn\\preprocessing\\_encoders.py:972: FutureWarning: `sparse` was renamed to `sparse_output` in version 1.2 and will be removed in 1.4. `sparse_output` is ignored unless you leave `sparse` to its default value.\n",
      "  warnings.warn(\n",
      "Preprocessing audio files dataset - dev: 100%|██████████| 37/37 [00:00<00:00, 2583.22it/s]\n"
     ]
    }
   ],
   "source": [
    "ser_positive_df, _ = create_dataframe_emoiit_autoencoder()\n",
    "ser_train_df, ser_dev_df = train_test_split(ser_positive_df, test_size=0.1, random_state=RANDOM_SEED, stratify=ser_positive_df.emotion)\n",
    "audio_block_list_train, emotion_list_train = preprocess_dataset_autoencoder(ser_positive_df, \"train\")\n",
    "ohe_train = joblib.load(os.path.join(MODEL_DIR, MODEL_NAME.replace(\".h5\", \"_train_ohe.pkl\")))\n",
    "audio_block_list_dev, emotion_list_dev = preprocess_dataset_autoencoder(ser_dev_df, \"dev\", ohe=ohe_train)"
   ]
  },
  {
   "cell_type": "code",
   "execution_count": 36,
   "metadata": {},
   "outputs": [
    {
     "name": "stderr",
     "output_type": "stream",
     "text": [
      "Preprocessing audio files dataset - test: 100%|██████████| 113/113 [00:00<00:00, 360.36it/s]\n"
     ]
    }
   ],
   "source": [
    "ser_real_df = create_dataframe_emoiit()\n",
    "_, ser_test_df = train_test_split(ser_real_df, test_size=0.2, random_state=RANDOM_SEED, stratify=ser_real_df.emotion)\n",
    "ohe_test = joblib.load(os.path.join(MODEL_DIR, \"EMO-IIT_Separate_Speakers_v3_converted_log_MobileNetV3Large_fold_1_ohe.pkl\"))\n",
    "audio_block_list_test, emotion_list_test = preprocess_dataset(ser_test_df, \"test\", ohe=ohe_test)"
   ]
  },
  {
   "cell_type": "code",
   "execution_count": 37,
   "metadata": {},
   "outputs": [
    {
     "name": "stderr",
     "output_type": "stream",
     "text": [
      "Creating Spectrogram Dataset - test: 100%|██████████| 5213/5213 [02:23<00:00, 36.37it/s]\n"
     ]
    }
   ],
   "source": [
    "# create_spectrogram_dataset(audio_block_list_train, emotion_list_train, sr=SAMPLE_RATE, create_spectrogram=create_spectrogram_log, dataset_type=\"train\")\n",
    "# create_spectrogram_dataset(audio_block_list_dev, emotion_list_dev, sr=SAMPLE_RATE, create_spectrogram=create_spectrogram_log, dataset_type=\"dev\")\n",
    "create_spectrogram_dataset(audio_block_list_test, emotion_list_test, sr=SAMPLE_RATE, create_spectrogram=create_spectrogram_log, dataset_type=\"test\")"
   ]
  },
  {
   "cell_type": "code",
   "execution_count": 38,
   "metadata": {},
   "outputs": [
    {
     "name": "stdout",
     "output_type": "stream",
     "text": [
      "INFO:tensorflow:Using MirroredStrategy with devices ('/job:localhost/replica:0/task:0/device:GPU:0',)\n"
     ]
    }
   ],
   "source": [
    "strategy = tf.distribute.MirroredStrategy()\n",
    "num_gpus = strategy.num_replicas_in_sync\n",
    "# num_gpus = 1\n",
    "# train_dataset = get_dataset_autoencoder(batch_size=BATCH_SIZE * num_gpus, dataset_type=\"train\")\n",
    "# dev_dataset = get_dataset_autoencoder(batch_size=BATCH_SIZE * num_gpus, dataset_type=\"dev\")\n",
    "test_dataset = get_dataset(batch_size=BATCH_SIZE * num_gpus, dataset_type=\"test\")"
   ]
  },
  {
   "cell_type": "code",
   "execution_count": 39,
   "metadata": {},
   "outputs": [],
   "source": [
    "# if not os.path.exists(MODEL_DIR):\n",
    "#     os.makedirs(MODEL_DIR)\n",
    "# model = create_ser_model()\n",
    "# model.summary()"
   ]
  },
  {
   "cell_type": "code",
   "execution_count": 40,
   "metadata": {},
   "outputs": [],
   "source": [
    "# run_logdir = get_run_logdir(root_logdir=os.path.join(os.curdir, \"logs\\\\fit\\\\\"))\n",
    "# tensorboard_cb = keras.callbacks.TensorBoard(run_logdir)\n",
    "# checkpoint = ModelCheckpoint(os.path.join(MODEL_DIR, MODEL_NAME), verbose=1, monitor='accuracy', save_best_only=True, mode='auto')\n",
    "# history = model.fit(x=train_dataset, class_weight=dict(enumerate(cls_weight)), epochs=EPOCHS, verbose=1, callbacks=[tensorboard_cb, checkpoint], validation_data=dev_dataset, shuffle=False, workers=8, use_multiprocessing=True)"
   ]
  },
  {
   "cell_type": "code",
   "execution_count": 41,
   "metadata": {},
   "outputs": [],
   "source": [
    "# plot_history(history, model_name=\"Model EmoDB: Log Spectrogram\")"
   ]
  },
  {
   "cell_type": "code",
   "execution_count": 42,
   "metadata": {
    "collapsed": false
   },
   "outputs": [
    {
     "data": {
      "image/png": "[encoded data removed]",
      "text/plain": [
       "<Figure size 900x600 with 1 Axes>"
      ]
     },
     "metadata": {},
     "output_type": "display_data"
    }
   ],
   "source": [
    "history_json = json.load(open(os.path.join(MODEL_DIR, MODEL_NAME_AE.replace(\".h5\", \".json\")), \"r\"))\n",
    "plt.figure(figsize=(9, 6))\n",
    "plt.plot(history_json['accuracy'])\n",
    "plt.xlabel(\"Epochs\")\n",
    "plt.ylabel(\"Accuracy\")\n",
    "plt.show()"
   ]
  },
  {
   "cell_type": "code",
   "execution_count": 43,
   "metadata": {},
   "outputs": [
    {
     "data": {
      "image/png": "[encoded data removed]",
      "text/plain": [
       "<Figure size 900x600 with 1 Axes>"
      ]
     },
     "metadata": {},
     "output_type": "display_data"
    }
   ],
   "source": [
    "history_json = json.load(open(os.path.join(MODEL_DIR, MODEL_NAME_AE.replace(\".h5\", \".json\")), \"r\"))\n",
    "plt.figure(figsize=(9, 6))\n",
    "plt.plot(history_json['loss'])\n",
    "plt.xlabel(\"Epochs\")\n",
    "plt.ylabel(\"Loss\")\n",
    "plt.show()"
   ]
  },
  {
   "cell_type": "code",
   "execution_count": 44,
   "metadata": {},
   "outputs": [
    {
     "data": {
      "text/plain": [
       "[array(['anger', 'boredom', 'disgust', 'fear', 'hapiness', 'irritation',\n",
       "        'neutral', 'sadness'], dtype='<U10')]"
      ]
     },
     "execution_count": 44,
     "metadata": {},
     "output_type": "execute_result"
    }
   ],
   "source": [
    "ohe_test.categories_"
   ]
  },
  {
   "cell_type": "code",
   "execution_count": 45,
   "metadata": {},
   "outputs": [
    {
     "data": {
      "text/plain": [
       "<TakeDataset element_spec=(TensorSpec(shape=(None, None, None, 3), dtype=tf.float32, name=None), TensorSpec(shape=(None, 8), dtype=tf.float32, name=None))>"
      ]
     },
     "execution_count": 45,
     "metadata": {},
     "output_type": "execute_result"
    }
   ],
   "source": [
    "test_dataset.take(1)"
   ]
  },
  {
   "cell_type": "code",
   "execution_count": 46,
   "metadata": {},
   "outputs": [],
   "source": [
    "test_dataset_slices = list(test_dataset.as_numpy_iterator())\n",
    "x_true = np.concatenate([batch[0] for batch in test_dataset_slices], axis=0)\n",
    "y_true = np.concatenate([batch[1] for batch in test_dataset_slices], axis=0)\n",
    "y_true = ohe_test.inverse_transform(y_true)\n",
    "y_true = np.where(np.isin(y_true, ['anger', 'irritation', 'fear']), y_true, 'neutral')\n",
    "y_true = ohe_test.transform(y_true)\n",
    "y_true = np.argmax(y_true, axis=1)"
   ]
  },
  {
   "cell_type": "code",
   "execution_count": 47,
   "metadata": {},
   "outputs": [],
   "source": [
    "def calculate_confusion_matrix_components(y_true, y_pred):\n",
    "    conf_matrix = confusion_matrix(y_true, y_pred)\n",
    "    TP = np.diag(conf_matrix)\n",
    "    FP = conf_matrix.sum(axis=0) - TP\n",
    "    FN = conf_matrix.sum(axis=1) - TP\n",
    "    TN = conf_matrix.sum() - (FP + FN + TP)\n",
    "    return TP, FP, FN, TN, conf_matrix"
   ]
  },
  {
   "cell_type": "code",
   "execution_count": 48,
   "metadata": {},
   "outputs": [],
   "source": [
    "def calculate_far_frr_multiclass(y_true, y_pred):\n",
    "    TP, FP, FN, TN, conf_matrix = calculate_confusion_matrix_components(y_true, y_pred)\n",
    "    far = FP / (FP + TN)  # FAR for each class\n",
    "    frr = FN / (FN + TP)  # FRR for each class\n",
    "    frr = np.nan_to_num(frr)\n",
    "    \n",
    "    # Calculate weights\n",
    "    total_predicted = conf_matrix.sum(axis=0)\n",
    "    total_actual = conf_matrix.sum(axis=1)\n",
    "    \n",
    "    # Weighted FAR\n",
    "    weighted_far = np.sum(total_predicted * far) / np.sum(total_predicted)\n",
    "    \n",
    "    # Weighted FRR\n",
    "    weighted_frr = np.sum(total_actual * frr) / np.sum(total_actual)\n",
    "    \n",
    "    return far, frr, weighted_far, weighted_frr"
   ]
  },
  {
   "cell_type": "code",
   "execution_count": 49,
   "metadata": {},
   "outputs": [
    {
     "name": "stdout",
     "output_type": "stream",
     "text": [
      "Threshold: 0.0\n"
     ]
    },
    {
     "name": "stderr",
     "output_type": "stream",
     "text": [
      "Getting predictions for test set: 100%|██████████| 163/163 [00:35<00:00,  4.65it/s]\n",
      "C:\\Users\\bogda\\AppData\\Local\\Temp\\ipykernel_2532\\952857405.py:4: RuntimeWarning: invalid value encountered in divide\n",
      "  frr = FN / (FN + TP)  # FRR for each class\n"
     ]
    },
    {
     "name": "stdout",
     "output_type": "stream",
     "text": [
      "False Acceptance Rate: [0.02751733 0.05371187 0.06368694 0.02179617 0.10147708 0.01644359\n",
      " 0.00316156 0.08536351]\n",
      "False Rejection Rate: [0.3713355  0.         0.         0.20155039 0.         0.00192456\n",
      " 0.83463415 0.        ]\n",
      "Weighted False Acceptance Rate: 0.03609627895387032\n",
      "Weighted False Rejection Rate: 0.3610205256090543\n",
      "Accuracy: 63.90%\n",
      "\n",
      "\n",
      "Threshold: 0.05\n"
     ]
    },
    {
     "name": "stderr",
     "output_type": "stream",
     "text": [
      "Getting predictions for test set: 100%|██████████| 163/163 [00:30<00:00,  5.37it/s]\n",
      "C:\\Users\\bogda\\AppData\\Local\\Temp\\ipykernel_2532\\952857405.py:4: RuntimeWarning: invalid value encountered in divide\n",
      "  frr = FN / (FN + TP)  # FRR for each class\n"
     ]
    },
    {
     "name": "stdout",
     "output_type": "stream",
     "text": [
      "False Acceptance Rate: [0.02751733 0.05371187 0.06368694 0.02179617 0.10147708 0.01644359\n",
      " 0.00316156 0.08536351]\n",
      "False Rejection Rate: [0.3713355  0.         0.         0.20155039 0.         0.00192456\n",
      " 0.83463415 0.        ]\n",
      "Weighted False Acceptance Rate: 0.03609627895387032\n",
      "Weighted False Rejection Rate: 0.3610205256090543\n",
      "Accuracy: 63.90%\n",
      "\n",
      "\n",
      "Threshold: 0.1\n"
     ]
    },
    {
     "name": "stderr",
     "output_type": "stream",
     "text": [
      "Getting predictions for test set: 100%|██████████| 163/163 [00:30<00:00,  5.36it/s]\n",
      "C:\\Users\\bogda\\AppData\\Local\\Temp\\ipykernel_2532\\952857405.py:4: RuntimeWarning: invalid value encountered in divide\n",
      "  frr = FN / (FN + TP)  # FRR for each class\n"
     ]
    },
    {
     "name": "stdout",
     "output_type": "stream",
     "text": [
      "False Acceptance Rate: [0.02751733 0.05371187 0.06368694 0.02179617 0.10147708 0.01644359\n",
      " 0.00316156 0.08536351]\n",
      "False Rejection Rate: [0.3713355  0.         0.         0.20155039 0.         0.00192456\n",
      " 0.83463415 0.        ]\n",
      "Weighted False Acceptance Rate: 0.03609627895387032\n",
      "Weighted False Rejection Rate: 0.3610205256090543\n",
      "Accuracy: 63.90%\n",
      "\n",
      "\n",
      "Threshold: 0.15\n"
     ]
    },
    {
     "name": "stderr",
     "output_type": "stream",
     "text": [
      "Getting predictions for test set: 100%|██████████| 163/163 [00:30<00:00,  5.35it/s]\n",
      "C:\\Users\\bogda\\AppData\\Local\\Temp\\ipykernel_2532\\952857405.py:4: RuntimeWarning: invalid value encountered in divide\n",
      "  frr = FN / (FN + TP)  # FRR for each class\n"
     ]
    },
    {
     "name": "stdout",
     "output_type": "stream",
     "text": [
      "False Acceptance Rate: [0.02751733 0.05371187 0.06368694 0.02179617 0.10147708 0.01644359\n",
      " 0.00442618 0.08536351]\n",
      "False Rejection Rate: [0.38436482 0.         0.         0.20155039 0.         0.00192456\n",
      " 0.83463415 0.        ]\n",
      "Weighted False Acceptance Rate: 0.03616322477270227\n",
      "Weighted False Rejection Rate: 0.36178783809706505\n",
      "Accuracy: 63.82%\n",
      "\n",
      "\n",
      "Threshold: 0.2\n"
     ]
    },
    {
     "name": "stderr",
     "output_type": "stream",
     "text": [
      "Getting predictions for test set: 100%|██████████| 163/163 [00:31<00:00,  5.25it/s]\n",
      "C:\\Users\\bogda\\AppData\\Local\\Temp\\ipykernel_2532\\952857405.py:4: RuntimeWarning: invalid value encountered in divide\n",
      "  frr = FN / (FN + TP)  # FRR for each class\n"
     ]
    },
    {
     "name": "stdout",
     "output_type": "stream",
     "text": [
      "False Acceptance Rate: [0.02731349 0.05371187 0.05946672 0.02179617 0.09437944 0.01644359\n",
      " 0.01327853 0.08536351]\n",
      "False Rejection Rate: [0.47557003 0.         0.         0.20155039 0.         0.00192456\n",
      " 0.80536585 0.        ]\n",
      "Weighted False Acceptance Rate: 0.03491234967016682\n",
      "Weighted False Rejection Rate: 0.3556493381929791\n",
      "Accuracy: 64.44%\n",
      "\n",
      "\n",
      "Threshold: 0.25\n"
     ]
    },
    {
     "name": "stderr",
     "output_type": "stream",
     "text": [
      "Getting predictions for test set: 100%|██████████| 163/163 [00:30<00:00,  5.28it/s]\n",
      "C:\\Users\\bogda\\AppData\\Local\\Temp\\ipykernel_2532\\952857405.py:4: RuntimeWarning: invalid value encountered in divide\n",
      "  frr = FN / (FN + TP)  # FRR for each class\n"
     ]
    },
    {
     "name": "stdout",
     "output_type": "stream",
     "text": [
      "False Acceptance Rate: [0.0209947  0.04738155 0.05927489 0.019778   0.08862459 0.01606119\n",
      " 0.02086627 0.07673125]\n",
      "False Rejection Rate: [0.52117264 0.         0.         0.20542636 0.         0.00423403\n",
      " 0.73317073 0.        ]\n",
      "Weighted False Acceptance Rate: 0.03221053740410113\n",
      "Weighted False Rejection Rate: 0.331287166698638\n",
      "Accuracy: 66.87%\n",
      "\n",
      "\n",
      "Threshold: 0.3\n"
     ]
    },
    {
     "name": "stderr",
     "output_type": "stream",
     "text": [
      "Getting predictions for test set: 100%|██████████| 163/163 [00:30<00:00,  5.29it/s]\n",
      "C:\\Users\\bogda\\AppData\\Local\\Temp\\ipykernel_2532\\952857405.py:4: RuntimeWarning: invalid value encountered in divide\n",
      "  frr = FN / (FN + TP)  # FRR for each class\n"
     ]
    },
    {
     "name": "stdout",
     "output_type": "stream",
     "text": [
      "False Acceptance Rate: [0.0165104  0.02973336 0.05754844 0.00887992 0.06196048 0.01185468\n",
      " 0.12677837 0.05121811]\n",
      "False Rejection Rate: [0.80456026 0.         0.         0.49612403 0.         0.04426482\n",
      " 0.54243902 0.        ]\n",
      "Weighted False Acceptance Rate: 0.04968226844184753\n",
      "Weighted False Rejection Rate: 0.30730865144830233\n",
      "Accuracy: 69.27%\n",
      "\n",
      "\n",
      "Threshold: 0.35\n"
     ]
    },
    {
     "name": "stderr",
     "output_type": "stream",
     "text": [
      "Getting predictions for test set: 100%|██████████| 163/163 [00:30<00:00,  5.33it/s]\n",
      "C:\\Users\\bogda\\AppData\\Local\\Temp\\ipykernel_2532\\952857405.py:4: RuntimeWarning: invalid value encountered in divide\n",
      "  frr = FN / (FN + TP)  # FRR for each class\n"
     ]
    },
    {
     "name": "stdout",
     "output_type": "stream",
     "text": [
      "False Acceptance Rate: [0.00428047 0.01918281 0.04412047 0.00302725 0.03299444 0.00191205\n",
      " 0.32184635 0.02628045]\n",
      "False Rejection Rate: [0.91530945 0.         0.         0.74031008 0.         0.23094688\n",
      " 0.30536585 0.        ]\n",
      "Weighted False Acceptance Rate: 0.15568184943544627\n",
      "Weighted False Rejection Rate: 0.32572415116056014\n",
      "Accuracy: 67.43%\n",
      "\n",
      "\n",
      "Threshold: 0.4\n"
     ]
    },
    {
     "name": "stderr",
     "output_type": "stream",
     "text": [
      "Getting predictions for test set: 100%|██████████| 163/163 [00:31<00:00,  5.11it/s]\n",
      "C:\\Users\\bogda\\AppData\\Local\\Temp\\ipykernel_2532\\952857405.py:4: RuntimeWarning: invalid value encountered in divide\n",
      "  frr = FN / (FN + TP)  # FRR for each class\n"
     ]
    },
    {
     "name": "stdout",
     "output_type": "stream",
     "text": [
      "False Acceptance Rate: [0.00326131 0.00364473 0.01419528 0.0012109  0.00441205 0.\n",
      " 0.53019285 0.01208517]\n",
      "False Rejection Rate: [0.98697068 0.         0.         0.88372093 0.         0.45111624\n",
      " 0.08536585 0.        ]\n",
      "Weighted False Acceptance Rate: 0.36166053765117095\n",
      "Weighted False Rejection Rate: 0.3602532131210435\n",
      "Accuracy: 63.97%\n",
      "\n",
      "\n",
      "Threshold: 0.45\n"
     ]
    },
    {
     "name": "stderr",
     "output_type": "stream",
     "text": [
      "Getting predictions for test set: 100%|██████████| 163/163 [00:36<00:00,  4.45it/s]\n",
      "C:\\Users\\bogda\\AppData\\Local\\Temp\\ipykernel_2532\\952857405.py:4: RuntimeWarning: invalid value encountered in divide\n",
      "  frr = FN / (FN + TP)  # FRR for each class\n"
     ]
    },
    {
     "name": "stdout",
     "output_type": "stream",
     "text": [
      "False Acceptance Rate: [8.15328170e-04 1.15096873e-03 1.18933436e-02 2.01816347e-04\n",
      " 2.87742183e-03 0.00000000e+00 8.76699336e-01 4.22021868e-03]\n",
      "False Rejection Rate: [1.         0.         0.         0.91472868 0.         0.86489607\n",
      " 0.04536585 0.        ]\n",
      "Weighted False Acceptance Rate: 0.7956409096427142\n",
      "Weighted False Rejection Rate: 0.5530404757337426\n",
      "Accuracy: 44.70%\n",
      "\n",
      "\n",
      "Threshold: 0.5\n"
     ]
    },
    {
     "name": "stderr",
     "output_type": "stream",
     "text": [
      "Getting predictions for test set: 100%|██████████| 163/163 [00:35<00:00,  4.55it/s]\n",
      "C:\\Users\\bogda\\AppData\\Local\\Temp\\ipykernel_2532\\952857405.py:4: RuntimeWarning: invalid value encountered in divide\n",
      "  frr = FN / (FN + TP)  # FRR for each class\n"
     ]
    },
    {
     "name": "stdout",
     "output_type": "stream",
     "text": [
      "False Acceptance Rate: [0.00000000e+00 9.59140610e-04 9.39957798e-03 0.00000000e+00\n",
      " 0.00000000e+00 9.94625356e-01 2.30193746e-03]\n",
      "False Rejection Rate: [1.         0.         0.         1.         0.99345651 0.03219512\n",
      " 0.        ]\n",
      "Weighted False Acceptance Rate: 0.9788837661397001\n",
      "Weighted False Rejection Rate: 0.6161519278726262\n",
      "Accuracy: 38.38%\n",
      "\n",
      "\n",
      "Threshold: 0.55\n"
     ]
    },
    {
     "name": "stderr",
     "output_type": "stream",
     "text": [
      "Getting predictions for test set: 100%|██████████| 163/163 [00:36<00:00,  4.49it/s]\n",
      "C:\\Users\\bogda\\AppData\\Local\\Temp\\ipykernel_2532\\952857405.py:4: RuntimeWarning: invalid value encountered in divide\n",
      "  frr = FN / (FN + TP)  # FRR for each class\n"
     ]
    },
    {
     "name": "stdout",
     "output_type": "stream",
     "text": [
      "False Acceptance Rate: [0.00000000e+00 7.67312488e-04 8.24860925e-03 0.00000000e+00\n",
      " 0.00000000e+00 1.00000000e+00]\n",
      "False Rejection Rate: [1.         0.         0.         1.         1.         0.02292683]\n",
      "Weighted False Acceptance Rate: 0.991052706588823\n",
      "Weighted False Rejection Rate: 0.6157682716286208\n",
      "Accuracy: 38.42%\n",
      "\n",
      "\n",
      "Threshold: 0.6\n"
     ]
    },
    {
     "name": "stderr",
     "output_type": "stream",
     "text": [
      "Getting predictions for test set: 100%|██████████| 163/163 [00:36<00:00,  4.48it/s]\n"
     ]
    },
    {
     "name": "stdout",
     "output_type": "stream",
     "text": [
      "False Acceptance Rate: [0. 0. 0. 1.]\n",
      "False Rejection Rate: [1. 1. 1. 0.]\n",
      "Weighted False Acceptance Rate: 1.0\n",
      "Weighted False Rejection Rate: 0.6067523498944946\n",
      "Accuracy: 39.32%\n",
      "\n",
      "\n",
      "Threshold: 0.65\n"
     ]
    },
    {
     "name": "stderr",
     "output_type": "stream",
     "text": [
      "Getting predictions for test set: 100%|██████████| 163/163 [00:36<00:00,  4.42it/s]\n"
     ]
    },
    {
     "name": "stdout",
     "output_type": "stream",
     "text": [
      "False Acceptance Rate: [0. 0. 0. 1.]\n",
      "False Rejection Rate: [1. 1. 1. 0.]\n",
      "Weighted False Acceptance Rate: 1.0\n",
      "Weighted False Rejection Rate: 0.6067523498944946\n",
      "Accuracy: 39.32%\n",
      "\n",
      "\n",
      "Threshold: 0.7\n"
     ]
    },
    {
     "name": "stderr",
     "output_type": "stream",
     "text": [
      "Getting predictions for test set: 100%|██████████| 163/163 [00:36<00:00,  4.48it/s]\n"
     ]
    },
    {
     "name": "stdout",
     "output_type": "stream",
     "text": [
      "False Acceptance Rate: [0. 0. 0. 1.]\n",
      "False Rejection Rate: [1. 1. 1. 0.]\n",
      "Weighted False Acceptance Rate: 1.0\n",
      "Weighted False Rejection Rate: 0.6067523498944946\n",
      "Accuracy: 39.32%\n",
      "\n",
      "\n",
      "Threshold: 0.75\n"
     ]
    },
    {
     "name": "stderr",
     "output_type": "stream",
     "text": [
      "Getting predictions for test set: 100%|██████████| 163/163 [00:36<00:00,  4.49it/s]\n"
     ]
    },
    {
     "name": "stdout",
     "output_type": "stream",
     "text": [
      "False Acceptance Rate: [0. 0. 0. 1.]\n",
      "False Rejection Rate: [1. 1. 1. 0.]\n",
      "Weighted False Acceptance Rate: 1.0\n",
      "Weighted False Rejection Rate: 0.6067523498944946\n",
      "Accuracy: 39.32%\n",
      "\n",
      "\n",
      "Threshold: 0.8\n"
     ]
    },
    {
     "name": "stderr",
     "output_type": "stream",
     "text": [
      "Getting predictions for test set: 100%|██████████| 163/163 [00:36<00:00,  4.50it/s]\n"
     ]
    },
    {
     "name": "stdout",
     "output_type": "stream",
     "text": [
      "False Acceptance Rate: [0. 0. 0. 1.]\n",
      "False Rejection Rate: [1. 1. 1. 0.]\n",
      "Weighted False Acceptance Rate: 1.0\n",
      "Weighted False Rejection Rate: 0.6067523498944946\n",
      "Accuracy: 39.32%\n",
      "\n",
      "\n",
      "Threshold: 0.85\n"
     ]
    },
    {
     "name": "stderr",
     "output_type": "stream",
     "text": [
      "Getting predictions for test set: 100%|██████████| 163/163 [00:37<00:00,  4.39it/s]\n"
     ]
    },
    {
     "name": "stdout",
     "output_type": "stream",
     "text": [
      "False Acceptance Rate: [0. 0. 0. 1.]\n",
      "False Rejection Rate: [1. 1. 1. 0.]\n",
      "Weighted False Acceptance Rate: 1.0\n",
      "Weighted False Rejection Rate: 0.6067523498944946\n",
      "Accuracy: 39.32%\n",
      "\n",
      "\n",
      "Threshold: 0.9\n"
     ]
    },
    {
     "name": "stderr",
     "output_type": "stream",
     "text": [
      "Getting predictions for test set: 100%|██████████| 163/163 [00:37<00:00,  4.35it/s]\n"
     ]
    },
    {
     "name": "stdout",
     "output_type": "stream",
     "text": [
      "False Acceptance Rate: [0. 0. 0. 1.]\n",
      "False Rejection Rate: [1. 1. 1. 0.]\n",
      "Weighted False Acceptance Rate: 1.0\n",
      "Weighted False Rejection Rate: 0.6067523498944946\n",
      "Accuracy: 39.32%\n",
      "\n",
      "\n",
      "Threshold: 0.95\n"
     ]
    },
    {
     "name": "stderr",
     "output_type": "stream",
     "text": [
      "Getting predictions for test set: 100%|██████████| 163/163 [00:37<00:00,  4.40it/s]"
     ]
    },
    {
     "name": "stdout",
     "output_type": "stream",
     "text": [
      "False Acceptance Rate: [0. 0. 0. 1.]\n",
      "False Rejection Rate: [1. 1. 1. 0.]\n",
      "Weighted False Acceptance Rate: 1.0\n",
      "Weighted False Rejection Rate: 0.6067523498944946\n",
      "Accuracy: 39.32%\n",
      "\n",
      "\n"
     ]
    },
    {
     "name": "stderr",
     "output_type": "stream",
     "text": [
      "\n"
     ]
    }
   ],
   "source": [
    "thresholds = np.arange(0, 1, 0.05)\n",
    "weighted_far_list = []\n",
    "weighted_frr_list = []\n",
    "model_ser = load_model(os.path.join(MODEL_DIR, MODEL_NAME))\n",
    "model_ae = load_model(os.path.join(MODEL_DIR, MODEL_NAME_AE))\n",
    "for ae_threshold in thresholds:\n",
    "    print(f\"Threshold: {ae_threshold:.2}\")\n",
    "    for i in tqdm(range(0, x_true.shape[0], BATCH_SIZE), desc=\"Getting predictions for test set\"):\n",
    "        if i == 0:\n",
    "            y_pred = predict_emotion(x_true[i:i+BATCH_SIZE], model_ser, model_ae, threshold=ae_threshold)\n",
    "        else:\n",
    "            y_pred = np.concatenate((y_pred, predict_emotion(x_true[i:i+BATCH_SIZE], model_ser, model_ae, threshold=ae_threshold)), axis=0)\n",
    "    far, frr, weighted_far, weighted_frr = calculate_far_frr_multiclass(y_true, y_pred)\n",
    "    print(f\"False Acceptance Rate: {far}\")\n",
    "    print(f\"False Rejection Rate: {frr}\")\n",
    "    print(f\"Weighted False Acceptance Rate: {weighted_far}\")\n",
    "    print(f\"Weighted False Rejection Rate: {weighted_frr}\")\n",
    "    print(f\"Accuracy: {accuracy_score(y_true, y_pred):.2%}\\n\\n\")\n",
    "    weighted_far_list.append(weighted_far)\n",
    "    weighted_frr_list.append(weighted_frr)"
   ]
  },
  {
   "cell_type": "code",
   "execution_count": 50,
   "metadata": {},
   "outputs": [
    {
     "data": {
      "image/png": "[encoded data removed]",
      "text/plain": [
       "<Figure size 1200x600 with 1 Axes>"
      ]
     },
     "metadata": {},
     "output_type": "display_data"
    }
   ],
   "source": [
    "# Plotting the results\n",
    "plt.figure(figsize=(12, 6))\n",
    "plt.plot(thresholds, weighted_far_list, label='Weighted FAR')\n",
    "plt.plot(thresholds, weighted_frr_list, label='Weighted FRR')\n",
    "plt.xlabel('AE Threshold')\n",
    "plt.ylabel('Rate')\n",
    "plt.title('Weighted FAR and FRR vs AE Threshold')\n",
    "plt.legend()\n",
    "plt.grid(True)\n",
    "plt.show()"
   ]
  },
  {
   "cell_type": "code",
   "execution_count": 51,
   "metadata": {},
   "outputs": [
    {
     "name": "stderr",
     "output_type": "stream",
     "text": [
      "Getting predictions for test set: 100%|██████████| 163/163 [00:38<00:00,  4.20it/s]\n"
     ]
    }
   ],
   "source": [
    "model_ser = load_model(os.path.join(MODEL_DIR, MODEL_NAME))\n",
    "model_ae = load_model(os.path.join(MODEL_DIR, MODEL_NAME_AE))\n",
    "for i in tqdm(range(0, x_true.shape[0], BATCH_SIZE), desc=\"Getting predictions for test set\"):\n",
    "    if i == 0:\n",
    "        y_pred = predict_emotion(x_true[i:i+BATCH_SIZE], model_ser, model_ae)\n",
    "    else:\n",
    "        y_pred = np.concatenate((y_pred, predict_emotion(x_true[i:i+BATCH_SIZE], model_ser, model_ae)), axis=0)"
   ]
  },
  {
   "cell_type": "code",
   "execution_count": 52,
   "metadata": {},
   "outputs": [
    {
     "name": "stdout",
     "output_type": "stream",
     "text": [
      "Accuracy: 66.87%\n"
     ]
    }
   ],
   "source": [
    "print(f\"Accuracy: {accuracy_score(y_true, y_pred):.2%}\")"
   ]
  },
  {
   "cell_type": "code",
   "execution_count": 53,
   "metadata": {},
   "outputs": [
    {
     "name": "stdout",
     "output_type": "stream",
     "text": [
      "              precision    recall  f1-score   support\n",
      "\n",
      "       anger       0.59      0.48      0.53       307\n",
      "     boredom       0.00      0.00      0.00         0\n",
      "     disgust       0.00      0.00      0.00         0\n",
      "        fear       0.68      0.79      0.73       258\n",
      "    hapiness       0.00      0.00      0.00         0\n",
      "  irritation       0.98      1.00      0.99      2598\n",
      "     neutral       0.89      0.27      0.41      2050\n",
      "     sadness       0.00      0.00      0.00         0\n",
      "\n",
      "    accuracy                           0.67      5213\n",
      "   macro avg       0.39      0.32      0.33      5213\n",
      "weighted avg       0.91      0.67      0.72      5213\n",
      "\n"
     ]
    },
    {
     "name": "stderr",
     "output_type": "stream",
     "text": [
      "c:\\Users\\bogda\\AppData\\Local\\Programs\\Python\\Python310\\lib\\site-packages\\sklearn\\metrics\\_classification.py:1469: UndefinedMetricWarning: Recall and F-score are ill-defined and being set to 0.0 in labels with no true samples. Use `zero_division` parameter to control this behavior.\n",
      "  _warn_prf(average, modifier, msg_start, len(result))\n",
      "c:\\Users\\bogda\\AppData\\Local\\Programs\\Python\\Python310\\lib\\site-packages\\sklearn\\metrics\\_classification.py:1469: UndefinedMetricWarning: Recall and F-score are ill-defined and being set to 0.0 in labels with no true samples. Use `zero_division` parameter to control this behavior.\n",
      "  _warn_prf(average, modifier, msg_start, len(result))\n",
      "c:\\Users\\bogda\\AppData\\Local\\Programs\\Python\\Python310\\lib\\site-packages\\sklearn\\metrics\\_classification.py:1469: UndefinedMetricWarning: Recall and F-score are ill-defined and being set to 0.0 in labels with no true samples. Use `zero_division` parameter to control this behavior.\n",
      "  _warn_prf(average, modifier, msg_start, len(result))\n"
     ]
    }
   ],
   "source": [
    "print(classification_report(y_true, y_pred, target_names=ohe_test.categories_[0]))"
   ]
  },
  {
   "cell_type": "code",
   "execution_count": 54,
   "metadata": {},
   "outputs": [
    {
     "data": {
      "image/png": "[encoded data removed]",
      "text/plain": [
       "<Figure size 1000x1000 with 2 Axes>"
      ]
     },
     "metadata": {},
     "output_type": "display_data"
    }
   ],
   "source": [
    "confusion_mat = confusion_matrix(y_true, y_pred, normalize=\"true\")\n",
    "plt.figure(figsize=(10, 10))\n",
    "sns.heatmap(confusion_mat, annot=True, fmt=\".2%\", xticklabels=ohe_test.categories_[0], yticklabels=ohe_test.categories_[0], cmap=\"Blues\", linewidths=0.5)\n",
    "plt.ylabel('Actual')\n",
    "plt.xlabel('Predicted')\n",
    "plt.show()"
   ]
  },
  {
   "cell_type": "code",
   "execution_count": null,
   "metadata": {},
   "outputs": [],
   "source": []
  }
 ],
 "metadata": {
  "kernelspec": {
   "display_name": "Python 3",
   "language": "python",
   "name": "python3"
  },
  "language_info": {
   "codemirror_mode": {
    "name": "ipython",
    "version": 3
   },
   "file_extension": ".py",
   "mimetype": "text/x-python",
   "name": "python",
   "nbconvert_exporter": "python",
   "pygments_lexer": "ipython3",
   "version": "3.10.11"
  },
  "orig_nbformat": 4,
  "vscode": {
   "interpreter": {
    "hash": "f4a9e923cdcd211576438a0109d8d7f51ab60e43f28b7fb24793285b30a0d4b5"
   }
  }
 },
 "nbformat": 4,
 "nbformat_minor": 2
}
